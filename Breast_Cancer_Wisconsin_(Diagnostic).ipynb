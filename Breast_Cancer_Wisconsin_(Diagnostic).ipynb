{
  "nbformat": 4,
  "nbformat_minor": 0,
  "metadata": {
    "colab": {
      "provenance": [],
      "authorship_tag": "ABX9TyM6ivTz5rrGboK3w158+KYD",
      "include_colab_link": true
    },
    "kernelspec": {
      "name": "python3",
      "display_name": "Python 3"
    },
    "language_info": {
      "name": "python"
    }
  },
  "cells": [
    {
      "cell_type": "markdown",
      "metadata": {
        "id": "view-in-github",
        "colab_type": "text"
      },
      "source": [
        "<a href=\"https://colab.research.google.com/github/RaonyGauto/Breast-Cancer-Wisconsin-Diagnostic/blob/main/Breast_Cancer_Wisconsin_(Diagnostic).ipynb\" target=\"_parent\"><img src=\"https://colab.research.google.com/assets/colab-badge.svg\" alt=\"Open In Colab\"/></a>"
      ]
    },
    {
      "cell_type": "markdown",
      "source": [
        "# **Projeto de Previsão de Câncer de Mama**"
      ],
      "metadata": {
        "id": "z0XZjU11n_F1"
      }
    },
    {
      "cell_type": "markdown",
      "source": [
        ">**Contexto:**\n",
        "\n",
        " O câncer de mama é uma doença que se origina nas células da mama, mais frequentemente nas glândulas mamárias que produzem leite (lobos) ou nos ductos que transportam o leite dos lobos para o mamilo. É uma das formas mais comuns de câncer entre as mulheres, embora homens também possam desenvolvê-lo. A detecção precoce é fundamental para o tratamento bem-sucedido, e o exame de biópsia é uma das maneiras de diagnosticar o câncer de mama. E a partir de características das células pode ser determinado se esse tumor é benigno ou maligno.\n",
        "\n",
        " As características são calculadas a partir de uma imagem digitalizada de um aspirado com agulha fina (PAAF) de uma massa mamária. Eles descrevem características dos núcleos celulares presentes na imagem.\n",
        "\n",
        "---\n",
        "\n",
        ">**Desafio:**\n",
        "\n",
        "Após biopsia o desafio é analisar as variáveis para achar padrôes e fatores que indiquem a classificação do tumor, alem de treinar um modelo de machine learning capaz de identificar a partir de características do tumor se ele é benigno ou maligno.\n",
        "\n",
        "\n",
        "---\n",
        "\n",
        ">**Objetivo:**\n",
        "\n",
        "O objetivo do projeto é desenvolver um modelo de classificação que tenha uma alta precisão acertiva para servir como uma ferramenta de apoio para profissionais da saúde tomarem as decisões mais corretas possíveis após coletar e analisar o material utilizado no exame de biópsa.\n",
        "\n",
        "\n",
        "\n",
        "\n",
        "\n",
        "\n",
        "\n",
        "\n",
        "\n",
        "\n",
        "\n",
        "\n",
        "\n",
        "\n",
        "\n",
        "\n",
        "\n",
        "\n",
        "\n",
        "\n",
        "\n",
        "\n",
        "\n",
        "\n",
        "\n",
        "\n",
        "\n",
        "\n",
        "\n",
        "\n",
        "\n",
        "\n",
        "\n",
        "\n",
        "\n",
        "\n",
        "\n",
        "\n",
        "\n",
        "\n",
        "\n",
        "\n",
        "\n",
        "\n",
        "\n",
        "\n",
        "\n",
        "\n",
        "\n",
        "\n",
        "\n",
        "\n",
        "\n",
        "\n",
        "\n",
        "\n",
        "\n",
        "\n",
        "\n",
        "\n",
        "\n",
        "\n",
        "\n",
        "\n",
        "\n",
        "\n",
        "\n",
        "\n",
        "\n",
        "\n",
        "\n",
        "\n",
        "\n",
        "\n",
        "\n",
        "\n",
        "\n",
        "\n",
        "\n",
        "\n",
        "\n",
        "\n",
        "\n",
        "\n",
        "\n",
        "\n",
        "\n",
        "\n",
        "\n",
        "\n",
        "\n",
        "\n",
        "\n",
        "\n",
        "\n",
        "\n",
        "\n",
        "\n",
        "\n",
        "\n",
        "\n",
        "\n",
        "\n",
        "\n",
        "\n",
        "\n",
        "\n",
        "\n",
        "\n"
      ],
      "metadata": {
        "id": "nX1-Y57jFnlA"
      }
    },
    {
      "cell_type": "markdown",
      "source": [
        "###Dataset:\n",
        "\n",
        "O projeto foi desenvolvido a partir do conjunto de dados Breast Cancer Wisconsin (Diagnostic) Data Set que está no site Kaggle. Para mais informações sobre o conjunto de dados e ou arquivo do banco de dados link abaixo.\n",
        "\n",
        "Link: https://www.kaggle.com/datasets/uciml/breast-cancer-wisconsin-data\n",
        "\n"
      ],
      "metadata": {
        "id": "u21Az6YcLq5V"
      }
    },
    {
      "cell_type": "markdown",
      "source": [
        "---\n",
        "## Variáveis do dataset:\n",
        "\n",
        "---\n",
        "id: O identificador único da biópsia.\n",
        "\n",
        "diagnosis: O diagnóstico da biópsia, um valor binário que indica se o tumor é maligno (M) ou benigno (B).\n",
        "\n",
        "radius_mean: A média do raio das células cancerosas, em mícrons.\n",
        "\n",
        "texture_mean: A média da textura das células cancerosas.\n",
        "\n",
        "perimeter_mean: A média do perímetro das células cancerosas, em mícrons.\n",
        "\n",
        "area_mean: A média da área das células cancerosas, em mícrons quadrados.\n",
        "\n",
        "smoothness_mean: A média da suavidade das células cancerosas.\n",
        "\n",
        "compactness_mean: A média da compactação das células cancerosas.\n",
        "\n",
        "concavity_mean: A média da concavidade das células cancerosas.\n",
        "\n",
        "concave points_mean: A média do número de pontos côncavos nas células\n",
        "cancerosas.\n",
        "\n",
        "symmetry_mean: A média da simetria das células cancerosas.\n",
        "\n",
        "fractal_dimension_mean: A média da dimensão fractal das células cancerosas.\n",
        "\n",
        "radius_se: O erro padrão do raio das células cancerosas, em mícrons.\n",
        "\n",
        "texture_se: O erro padrão da textura das células cancerosas.\n",
        "\n",
        "perimeter_se: O erro padrão do perímetro das células cancerosas, em mícrons.\n",
        "\n",
        "area_se: O erro padrão da área das células cancerosas, em mícrons quadrados.\n",
        "\n",
        "smoothness_se: O erro padrão da suavidade das células cancerosas.\n",
        "\n",
        "compactness_se: O erro padrão da compactação das células cancerosas.\n",
        "\n",
        "concavity_se: O erro padrão da concavidade das células cancerosas.\n",
        "\n",
        "concave points_se: O erro padrão do número de pontos côncavos nas células cancerosas.\n",
        "\n",
        "symmetry_se: O erro padrão da simetria das células cancerosas.\n",
        "\n",
        "fractal_dimension_se: O erro padrão da dimensão fractal das células cancerosas.\n",
        "\n",
        "radius_worst: O pior raio das células cancerosas, em mícrons.\n",
        "\n",
        "texture_worst: O pior valor de textura das células cancerosas.\n",
        "\n",
        "perimeter_worst: O pior valor de perímetro das células cancerosas, em mícrons.\n",
        "\n",
        "area_worst: O pior valor de área das células cancerosas, em mícrons quadrados.\n",
        "\n",
        "smoothness_worst: O pior valor de suavidade das células cancerosas.\n",
        "\n",
        "compactness_worst: O pior valor de compactação das células cancerosas.\n",
        "\n",
        "concavity_worst: O pior valor de concavidade das células cancerosas.\n",
        "\n",
        "concave points_worst: O pior valor do número de pontos côncavos nas células cancerosas.\n",
        "\n",
        "symmetry_worst: O pior valor de simetria das células cancerosas.\n",
        "\n",
        "fractal_dimension_worst: O pior valor da dimensão fractal das células cancerosas.\n",
        "\n",
        "---"
      ],
      "metadata": {
        "id": "eMzHPzy9dBjN"
      }
    },
    {
      "cell_type": "code",
      "execution_count": null,
      "metadata": {
        "id": "71hJNBR5rGyY"
      },
      "outputs": [],
      "source": [
        "import pandas            as pd  # Importa a biblioteca pandas e a apelida como 'pd' para trabalhar com estruturas de dados tabulares.\n",
        "import numpy             as np  # Importa a biblioteca numpy e a apelida como 'np' para cálculos numéricos.\n",
        "import matplotlib.pyplot as plt # Importa a biblioteca matplotlib para criar gráficos e a apelida como 'plt'.\n",
        "import seaborn           as sns # Importa a biblioteca seaborn para melhorar a visualização de dados e a apelida como 'sns'.\n"
      ]
    },
    {
      "cell_type": "code",
      "source": [
        "# Lê os dados do arquivo CSV localizado em '/content/data.csv' e armazena-os no DataFrame 'breast_cancer'.\n",
        "breast_cancer = pd.read_csv('/content/data.csv')"
      ],
      "metadata": {
        "id": "eHiRINAdrJe2"
      },
      "execution_count": null,
      "outputs": []
    },
    {
      "cell_type": "code",
      "source": [
        "# Exibe as 5 primeiras linhas do DataFrame 'breast_cancer' para vizualizar o conjunto de dados.\n",
        "\n",
        "breast_cancer.head()"
      ],
      "metadata": {
        "colab": {
          "base_uri": "https://localhost:8080/",
          "height": 273
        },
        "id": "yr6QIEGQr4JR",
        "outputId": "c5852eec-a187-4faf-d46e-c680acd26f25"
      },
      "execution_count": null,
      "outputs": [
        {
          "output_type": "execute_result",
          "data": {
            "text/plain": [
              "         id diagnosis  radius_mean  texture_mean  perimeter_mean  area_mean  \\\n",
              "0    842302         M        17.99         10.38          122.80     1001.0   \n",
              "1    842517         M        20.57         17.77          132.90     1326.0   \n",
              "2  84300903         M        19.69         21.25          130.00     1203.0   \n",
              "3  84348301         M        11.42         20.38           77.58      386.1   \n",
              "4  84358402         M        20.29         14.34          135.10     1297.0   \n",
              "\n",
              "   smoothness_mean  compactness_mean  concavity_mean  concave points_mean  \\\n",
              "0          0.11840           0.27760          0.3001              0.14710   \n",
              "1          0.08474           0.07864          0.0869              0.07017   \n",
              "2          0.10960           0.15990          0.1974              0.12790   \n",
              "3          0.14250           0.28390          0.2414              0.10520   \n",
              "4          0.10030           0.13280          0.1980              0.10430   \n",
              "\n",
              "   ...  texture_worst  perimeter_worst  area_worst  smoothness_worst  \\\n",
              "0  ...          17.33           184.60      2019.0            0.1622   \n",
              "1  ...          23.41           158.80      1956.0            0.1238   \n",
              "2  ...          25.53           152.50      1709.0            0.1444   \n",
              "3  ...          26.50            98.87       567.7            0.2098   \n",
              "4  ...          16.67           152.20      1575.0            0.1374   \n",
              "\n",
              "   compactness_worst  concavity_worst  concave points_worst  symmetry_worst  \\\n",
              "0             0.6656           0.7119                0.2654          0.4601   \n",
              "1             0.1866           0.2416                0.1860          0.2750   \n",
              "2             0.4245           0.4504                0.2430          0.3613   \n",
              "3             0.8663           0.6869                0.2575          0.6638   \n",
              "4             0.2050           0.4000                0.1625          0.2364   \n",
              "\n",
              "   fractal_dimension_worst  Unnamed: 32  \n",
              "0                  0.11890          NaN  \n",
              "1                  0.08902          NaN  \n",
              "2                  0.08758          NaN  \n",
              "3                  0.17300          NaN  \n",
              "4                  0.07678          NaN  \n",
              "\n",
              "[5 rows x 33 columns]"
            ],
            "text/html": [
              "\n",
              "  <div id=\"df-97e6dd68-e520-466a-bf4a-b99aefbd6be5\" class=\"colab-df-container\">\n",
              "    <div>\n",
              "<style scoped>\n",
              "    .dataframe tbody tr th:only-of-type {\n",
              "        vertical-align: middle;\n",
              "    }\n",
              "\n",
              "    .dataframe tbody tr th {\n",
              "        vertical-align: top;\n",
              "    }\n",
              "\n",
              "    .dataframe thead th {\n",
              "        text-align: right;\n",
              "    }\n",
              "</style>\n",
              "<table border=\"1\" class=\"dataframe\">\n",
              "  <thead>\n",
              "    <tr style=\"text-align: right;\">\n",
              "      <th></th>\n",
              "      <th>id</th>\n",
              "      <th>diagnosis</th>\n",
              "      <th>radius_mean</th>\n",
              "      <th>texture_mean</th>\n",
              "      <th>perimeter_mean</th>\n",
              "      <th>area_mean</th>\n",
              "      <th>smoothness_mean</th>\n",
              "      <th>compactness_mean</th>\n",
              "      <th>concavity_mean</th>\n",
              "      <th>concave points_mean</th>\n",
              "      <th>...</th>\n",
              "      <th>texture_worst</th>\n",
              "      <th>perimeter_worst</th>\n",
              "      <th>area_worst</th>\n",
              "      <th>smoothness_worst</th>\n",
              "      <th>compactness_worst</th>\n",
              "      <th>concavity_worst</th>\n",
              "      <th>concave points_worst</th>\n",
              "      <th>symmetry_worst</th>\n",
              "      <th>fractal_dimension_worst</th>\n",
              "      <th>Unnamed: 32</th>\n",
              "    </tr>\n",
              "  </thead>\n",
              "  <tbody>\n",
              "    <tr>\n",
              "      <th>0</th>\n",
              "      <td>842302</td>\n",
              "      <td>M</td>\n",
              "      <td>17.99</td>\n",
              "      <td>10.38</td>\n",
              "      <td>122.80</td>\n",
              "      <td>1001.0</td>\n",
              "      <td>0.11840</td>\n",
              "      <td>0.27760</td>\n",
              "      <td>0.3001</td>\n",
              "      <td>0.14710</td>\n",
              "      <td>...</td>\n",
              "      <td>17.33</td>\n",
              "      <td>184.60</td>\n",
              "      <td>2019.0</td>\n",
              "      <td>0.1622</td>\n",
              "      <td>0.6656</td>\n",
              "      <td>0.7119</td>\n",
              "      <td>0.2654</td>\n",
              "      <td>0.4601</td>\n",
              "      <td>0.11890</td>\n",
              "      <td>NaN</td>\n",
              "    </tr>\n",
              "    <tr>\n",
              "      <th>1</th>\n",
              "      <td>842517</td>\n",
              "      <td>M</td>\n",
              "      <td>20.57</td>\n",
              "      <td>17.77</td>\n",
              "      <td>132.90</td>\n",
              "      <td>1326.0</td>\n",
              "      <td>0.08474</td>\n",
              "      <td>0.07864</td>\n",
              "      <td>0.0869</td>\n",
              "      <td>0.07017</td>\n",
              "      <td>...</td>\n",
              "      <td>23.41</td>\n",
              "      <td>158.80</td>\n",
              "      <td>1956.0</td>\n",
              "      <td>0.1238</td>\n",
              "      <td>0.1866</td>\n",
              "      <td>0.2416</td>\n",
              "      <td>0.1860</td>\n",
              "      <td>0.2750</td>\n",
              "      <td>0.08902</td>\n",
              "      <td>NaN</td>\n",
              "    </tr>\n",
              "    <tr>\n",
              "      <th>2</th>\n",
              "      <td>84300903</td>\n",
              "      <td>M</td>\n",
              "      <td>19.69</td>\n",
              "      <td>21.25</td>\n",
              "      <td>130.00</td>\n",
              "      <td>1203.0</td>\n",
              "      <td>0.10960</td>\n",
              "      <td>0.15990</td>\n",
              "      <td>0.1974</td>\n",
              "      <td>0.12790</td>\n",
              "      <td>...</td>\n",
              "      <td>25.53</td>\n",
              "      <td>152.50</td>\n",
              "      <td>1709.0</td>\n",
              "      <td>0.1444</td>\n",
              "      <td>0.4245</td>\n",
              "      <td>0.4504</td>\n",
              "      <td>0.2430</td>\n",
              "      <td>0.3613</td>\n",
              "      <td>0.08758</td>\n",
              "      <td>NaN</td>\n",
              "    </tr>\n",
              "    <tr>\n",
              "      <th>3</th>\n",
              "      <td>84348301</td>\n",
              "      <td>M</td>\n",
              "      <td>11.42</td>\n",
              "      <td>20.38</td>\n",
              "      <td>77.58</td>\n",
              "      <td>386.1</td>\n",
              "      <td>0.14250</td>\n",
              "      <td>0.28390</td>\n",
              "      <td>0.2414</td>\n",
              "      <td>0.10520</td>\n",
              "      <td>...</td>\n",
              "      <td>26.50</td>\n",
              "      <td>98.87</td>\n",
              "      <td>567.7</td>\n",
              "      <td>0.2098</td>\n",
              "      <td>0.8663</td>\n",
              "      <td>0.6869</td>\n",
              "      <td>0.2575</td>\n",
              "      <td>0.6638</td>\n",
              "      <td>0.17300</td>\n",
              "      <td>NaN</td>\n",
              "    </tr>\n",
              "    <tr>\n",
              "      <th>4</th>\n",
              "      <td>84358402</td>\n",
              "      <td>M</td>\n",
              "      <td>20.29</td>\n",
              "      <td>14.34</td>\n",
              "      <td>135.10</td>\n",
              "      <td>1297.0</td>\n",
              "      <td>0.10030</td>\n",
              "      <td>0.13280</td>\n",
              "      <td>0.1980</td>\n",
              "      <td>0.10430</td>\n",
              "      <td>...</td>\n",
              "      <td>16.67</td>\n",
              "      <td>152.20</td>\n",
              "      <td>1575.0</td>\n",
              "      <td>0.1374</td>\n",
              "      <td>0.2050</td>\n",
              "      <td>0.4000</td>\n",
              "      <td>0.1625</td>\n",
              "      <td>0.2364</td>\n",
              "      <td>0.07678</td>\n",
              "      <td>NaN</td>\n",
              "    </tr>\n",
              "  </tbody>\n",
              "</table>\n",
              "<p>5 rows × 33 columns</p>\n",
              "</div>\n",
              "    <div class=\"colab-df-buttons\">\n",
              "\n",
              "  <div class=\"colab-df-container\">\n",
              "    <button class=\"colab-df-convert\" onclick=\"convertToInteractive('df-97e6dd68-e520-466a-bf4a-b99aefbd6be5')\"\n",
              "            title=\"Convert this dataframe to an interactive table.\"\n",
              "            style=\"display:none;\">\n",
              "\n",
              "  <svg xmlns=\"http://www.w3.org/2000/svg\" height=\"24px\" viewBox=\"0 -960 960 960\">\n",
              "    <path d=\"M120-120v-720h720v720H120Zm60-500h600v-160H180v160Zm220 220h160v-160H400v160Zm0 220h160v-160H400v160ZM180-400h160v-160H180v160Zm440 0h160v-160H620v160ZM180-180h160v-160H180v160Zm440 0h160v-160H620v160Z\"/>\n",
              "  </svg>\n",
              "    </button>\n",
              "\n",
              "  <style>\n",
              "    .colab-df-container {\n",
              "      display:flex;\n",
              "      gap: 12px;\n",
              "    }\n",
              "\n",
              "    .colab-df-convert {\n",
              "      background-color: #E8F0FE;\n",
              "      border: none;\n",
              "      border-radius: 50%;\n",
              "      cursor: pointer;\n",
              "      display: none;\n",
              "      fill: #1967D2;\n",
              "      height: 32px;\n",
              "      padding: 0 0 0 0;\n",
              "      width: 32px;\n",
              "    }\n",
              "\n",
              "    .colab-df-convert:hover {\n",
              "      background-color: #E2EBFA;\n",
              "      box-shadow: 0px 1px 2px rgba(60, 64, 67, 0.3), 0px 1px 3px 1px rgba(60, 64, 67, 0.15);\n",
              "      fill: #174EA6;\n",
              "    }\n",
              "\n",
              "    .colab-df-buttons div {\n",
              "      margin-bottom: 4px;\n",
              "    }\n",
              "\n",
              "    [theme=dark] .colab-df-convert {\n",
              "      background-color: #3B4455;\n",
              "      fill: #D2E3FC;\n",
              "    }\n",
              "\n",
              "    [theme=dark] .colab-df-convert:hover {\n",
              "      background-color: #434B5C;\n",
              "      box-shadow: 0px 1px 3px 1px rgba(0, 0, 0, 0.15);\n",
              "      filter: drop-shadow(0px 1px 2px rgba(0, 0, 0, 0.3));\n",
              "      fill: #FFFFFF;\n",
              "    }\n",
              "  </style>\n",
              "\n",
              "    <script>\n",
              "      const buttonEl =\n",
              "        document.querySelector('#df-97e6dd68-e520-466a-bf4a-b99aefbd6be5 button.colab-df-convert');\n",
              "      buttonEl.style.display =\n",
              "        google.colab.kernel.accessAllowed ? 'block' : 'none';\n",
              "\n",
              "      async function convertToInteractive(key) {\n",
              "        const element = document.querySelector('#df-97e6dd68-e520-466a-bf4a-b99aefbd6be5');\n",
              "        const dataTable =\n",
              "          await google.colab.kernel.invokeFunction('convertToInteractive',\n",
              "                                                    [key], {});\n",
              "        if (!dataTable) return;\n",
              "\n",
              "        const docLinkHtml = 'Like what you see? Visit the ' +\n",
              "          '<a target=\"_blank\" href=https://colab.research.google.com/notebooks/data_table.ipynb>data table notebook</a>'\n",
              "          + ' to learn more about interactive tables.';\n",
              "        element.innerHTML = '';\n",
              "        dataTable['output_type'] = 'display_data';\n",
              "        await google.colab.output.renderOutput(dataTable, element);\n",
              "        const docLink = document.createElement('div');\n",
              "        docLink.innerHTML = docLinkHtml;\n",
              "        element.appendChild(docLink);\n",
              "      }\n",
              "    </script>\n",
              "  </div>\n",
              "\n",
              "\n",
              "<div id=\"df-c03be370-6c6b-4c23-9cf7-7e197cbfaf4f\">\n",
              "  <button class=\"colab-df-quickchart\" onclick=\"quickchart('df-c03be370-6c6b-4c23-9cf7-7e197cbfaf4f')\"\n",
              "            title=\"Suggest charts.\"\n",
              "            style=\"display:none;\">\n",
              "\n",
              "<svg xmlns=\"http://www.w3.org/2000/svg\" height=\"24px\"viewBox=\"0 0 24 24\"\n",
              "     width=\"24px\">\n",
              "    <g>\n",
              "        <path d=\"M19 3H5c-1.1 0-2 .9-2 2v14c0 1.1.9 2 2 2h14c1.1 0 2-.9 2-2V5c0-1.1-.9-2-2-2zM9 17H7v-7h2v7zm4 0h-2V7h2v10zm4 0h-2v-4h2v4z\"/>\n",
              "    </g>\n",
              "</svg>\n",
              "  </button>\n",
              "\n",
              "<style>\n",
              "  .colab-df-quickchart {\n",
              "      --bg-color: #E8F0FE;\n",
              "      --fill-color: #1967D2;\n",
              "      --hover-bg-color: #E2EBFA;\n",
              "      --hover-fill-color: #174EA6;\n",
              "      --disabled-fill-color: #AAA;\n",
              "      --disabled-bg-color: #DDD;\n",
              "  }\n",
              "\n",
              "  [theme=dark] .colab-df-quickchart {\n",
              "      --bg-color: #3B4455;\n",
              "      --fill-color: #D2E3FC;\n",
              "      --hover-bg-color: #434B5C;\n",
              "      --hover-fill-color: #FFFFFF;\n",
              "      --disabled-bg-color: #3B4455;\n",
              "      --disabled-fill-color: #666;\n",
              "  }\n",
              "\n",
              "  .colab-df-quickchart {\n",
              "    background-color: var(--bg-color);\n",
              "    border: none;\n",
              "    border-radius: 50%;\n",
              "    cursor: pointer;\n",
              "    display: none;\n",
              "    fill: var(--fill-color);\n",
              "    height: 32px;\n",
              "    padding: 0;\n",
              "    width: 32px;\n",
              "  }\n",
              "\n",
              "  .colab-df-quickchart:hover {\n",
              "    background-color: var(--hover-bg-color);\n",
              "    box-shadow: 0 1px 2px rgba(60, 64, 67, 0.3), 0 1px 3px 1px rgba(60, 64, 67, 0.15);\n",
              "    fill: var(--button-hover-fill-color);\n",
              "  }\n",
              "\n",
              "  .colab-df-quickchart-complete:disabled,\n",
              "  .colab-df-quickchart-complete:disabled:hover {\n",
              "    background-color: var(--disabled-bg-color);\n",
              "    fill: var(--disabled-fill-color);\n",
              "    box-shadow: none;\n",
              "  }\n",
              "\n",
              "  .colab-df-spinner {\n",
              "    border: 2px solid var(--fill-color);\n",
              "    border-color: transparent;\n",
              "    border-bottom-color: var(--fill-color);\n",
              "    animation:\n",
              "      spin 1s steps(1) infinite;\n",
              "  }\n",
              "\n",
              "  @keyframes spin {\n",
              "    0% {\n",
              "      border-color: transparent;\n",
              "      border-bottom-color: var(--fill-color);\n",
              "      border-left-color: var(--fill-color);\n",
              "    }\n",
              "    20% {\n",
              "      border-color: transparent;\n",
              "      border-left-color: var(--fill-color);\n",
              "      border-top-color: var(--fill-color);\n",
              "    }\n",
              "    30% {\n",
              "      border-color: transparent;\n",
              "      border-left-color: var(--fill-color);\n",
              "      border-top-color: var(--fill-color);\n",
              "      border-right-color: var(--fill-color);\n",
              "    }\n",
              "    40% {\n",
              "      border-color: transparent;\n",
              "      border-right-color: var(--fill-color);\n",
              "      border-top-color: var(--fill-color);\n",
              "    }\n",
              "    60% {\n",
              "      border-color: transparent;\n",
              "      border-right-color: var(--fill-color);\n",
              "    }\n",
              "    80% {\n",
              "      border-color: transparent;\n",
              "      border-right-color: var(--fill-color);\n",
              "      border-bottom-color: var(--fill-color);\n",
              "    }\n",
              "    90% {\n",
              "      border-color: transparent;\n",
              "      border-bottom-color: var(--fill-color);\n",
              "    }\n",
              "  }\n",
              "</style>\n",
              "\n",
              "  <script>\n",
              "    async function quickchart(key) {\n",
              "      const quickchartButtonEl =\n",
              "        document.querySelector('#' + key + ' button');\n",
              "      quickchartButtonEl.disabled = true;  // To prevent multiple clicks.\n",
              "      quickchartButtonEl.classList.add('colab-df-spinner');\n",
              "      try {\n",
              "        const charts = await google.colab.kernel.invokeFunction(\n",
              "            'suggestCharts', [key], {});\n",
              "      } catch (error) {\n",
              "        console.error('Error during call to suggestCharts:', error);\n",
              "      }\n",
              "      quickchartButtonEl.classList.remove('colab-df-spinner');\n",
              "      quickchartButtonEl.classList.add('colab-df-quickchart-complete');\n",
              "    }\n",
              "    (() => {\n",
              "      let quickchartButtonEl =\n",
              "        document.querySelector('#df-c03be370-6c6b-4c23-9cf7-7e197cbfaf4f button');\n",
              "      quickchartButtonEl.style.display =\n",
              "        google.colab.kernel.accessAllowed ? 'block' : 'none';\n",
              "    })();\n",
              "  </script>\n",
              "</div>\n",
              "    </div>\n",
              "  </div>\n"
            ]
          },
          "metadata": {},
          "execution_count": 4
        }
      ]
    },
    {
      "cell_type": "code",
      "source": [
        "# Retorna a forma (número de linhas e colunas) do DataFrame 'breast_cancer'.\n",
        "\n",
        "breast_cancer.shape"
      ],
      "metadata": {
        "colab": {
          "base_uri": "https://localhost:8080/"
        },
        "id": "nFnQVQY4r_Yw",
        "outputId": "1a428a0d-31a8-4fc3-e402-0cb98d893312"
      },
      "execution_count": null,
      "outputs": [
        {
          "output_type": "execute_result",
          "data": {
            "text/plain": [
              "(569, 33)"
            ]
          },
          "metadata": {},
          "execution_count": 5
        }
      ]
    },
    {
      "cell_type": "code",
      "source": [
        "# O método info() fornece informações resumidas sobre o DataFrame 'breast_cancer'.\n",
        "\n",
        "breast_cancer.info()"
      ],
      "metadata": {
        "colab": {
          "base_uri": "https://localhost:8080/"
        },
        "id": "7B0q7wabIoPo",
        "outputId": "9ce70066-546c-41dd-d580-a03c1e336dba"
      },
      "execution_count": null,
      "outputs": [
        {
          "output_type": "stream",
          "name": "stdout",
          "text": [
            "<class 'pandas.core.frame.DataFrame'>\n",
            "RangeIndex: 569 entries, 0 to 568\n",
            "Data columns (total 33 columns):\n",
            " #   Column                   Non-Null Count  Dtype  \n",
            "---  ------                   --------------  -----  \n",
            " 0   id                       569 non-null    int64  \n",
            " 1   diagnosis                569 non-null    object \n",
            " 2   radius_mean              569 non-null    float64\n",
            " 3   texture_mean             569 non-null    float64\n",
            " 4   perimeter_mean           569 non-null    float64\n",
            " 5   area_mean                569 non-null    float64\n",
            " 6   smoothness_mean          569 non-null    float64\n",
            " 7   compactness_mean         569 non-null    float64\n",
            " 8   concavity_mean           569 non-null    float64\n",
            " 9   concave points_mean      569 non-null    float64\n",
            " 10  symmetry_mean            569 non-null    float64\n",
            " 11  fractal_dimension_mean   569 non-null    float64\n",
            " 12  radius_se                569 non-null    float64\n",
            " 13  texture_se               569 non-null    float64\n",
            " 14  perimeter_se             569 non-null    float64\n",
            " 15  area_se                  569 non-null    float64\n",
            " 16  smoothness_se            569 non-null    float64\n",
            " 17  compactness_se           569 non-null    float64\n",
            " 18  concavity_se             569 non-null    float64\n",
            " 19  concave points_se        569 non-null    float64\n",
            " 20  symmetry_se              569 non-null    float64\n",
            " 21  fractal_dimension_se     569 non-null    float64\n",
            " 22  radius_worst             569 non-null    float64\n",
            " 23  texture_worst            569 non-null    float64\n",
            " 24  perimeter_worst          569 non-null    float64\n",
            " 25  area_worst               569 non-null    float64\n",
            " 26  smoothness_worst         569 non-null    float64\n",
            " 27  compactness_worst        569 non-null    float64\n",
            " 28  concavity_worst          569 non-null    float64\n",
            " 29  concave points_worst     569 non-null    float64\n",
            " 30  symmetry_worst           569 non-null    float64\n",
            " 31  fractal_dimension_worst  569 non-null    float64\n",
            " 32  Unnamed: 32              0 non-null      float64\n",
            "dtypes: float64(31), int64(1), object(1)\n",
            "memory usage: 146.8+ KB\n"
          ]
        }
      ]
    },
    {
      "cell_type": "code",
      "source": [
        "# Remove a coluna chamada 'Unnamed: 32' do DataFrame 'breast_cancer'.\n",
        "\n",
        "breast_cancer = breast_cancer.drop(columns=['Unnamed: 32'])"
      ],
      "metadata": {
        "id": "UYkz-Y7veCzu"
      },
      "execution_count": null,
      "outputs": []
    },
    {
      "cell_type": "code",
      "source": [
        "# Cria um novo DataFrame chamado 'breast_cancerM' que contém as amostras de tumores malignos (diagnosis == 'M') do DataFrame original 'breast_cancer'.\n",
        "\n",
        "breast_cancerM = breast_cancer[breast_cancer['diagnosis'] == 'M']\n",
        "\n",
        "# Cria um novo DataFrame chamado 'breast_cancerB' que contém as amostras de tumores benignos (diagnosis == 'B') do DataFrame original 'breast_cancer'.\n",
        "\n",
        "breast_cancerB = breast_cancer[breast_cancer['diagnosis'] == 'B']"
      ],
      "metadata": {
        "id": "44lb3ethe1ds"
      },
      "execution_count": null,
      "outputs": []
    },
    {
      "cell_type": "code",
      "source": [
        "# Gera estatísticas descritivas para o DataFrame 'breast_cancerM', que contém amostras de tumores malignos.\n",
        "\n",
        "breast_cancerM.describe()"
      ],
      "metadata": {
        "colab": {
          "base_uri": "https://localhost:8080/",
          "height": 367
        },
        "id": "v91QcgTld9dP",
        "outputId": "e6e17590-8646-4dbf-c2be-c7fb547882f6"
      },
      "execution_count": null,
      "outputs": [
        {
          "output_type": "execute_result",
          "data": {
            "text/plain": [
              "                 id  radius_mean  texture_mean  perimeter_mean    area_mean  \\\n",
              "count  2.120000e+02   212.000000    212.000000      212.000000   212.000000   \n",
              "mean   3.681805e+07    17.462830     21.604906      115.365377   978.376415   \n",
              "std    1.378965e+08     3.203971      3.779470       21.854653   367.937978   \n",
              "min    8.670000e+03    10.950000     10.380000       71.900000   361.600000   \n",
              "25%    8.613450e+05    15.075000     19.327500       98.745000   705.300000   \n",
              "50%    8.953665e+05    17.325000     21.460000      114.200000   932.000000   \n",
              "75%    8.911290e+06    19.590000     23.765000      129.925000  1203.750000   \n",
              "max    9.112962e+08    28.110000     39.280000      188.500000  2501.000000   \n",
              "\n",
              "       smoothness_mean  compactness_mean  concavity_mean  concave points_mean  \\\n",
              "count       212.000000        212.000000      212.000000           212.000000   \n",
              "mean          0.102898          0.145188        0.160775             0.087990   \n",
              "std           0.012608          0.053987        0.075019             0.034374   \n",
              "min           0.073710          0.046050        0.023980             0.020310   \n",
              "25%           0.094010          0.109600        0.109525             0.064620   \n",
              "50%           0.102200          0.132350        0.151350             0.086280   \n",
              "75%           0.110925          0.172400        0.203050             0.103175   \n",
              "max           0.144700          0.345400        0.426800             0.201200   \n",
              "\n",
              "       symmetry_mean  ...  radius_worst  texture_worst  perimeter_worst  \\\n",
              "count     212.000000  ...    212.000000     212.000000       212.000000   \n",
              "mean        0.192909  ...     21.134811      29.318208       141.370330   \n",
              "std         0.027638  ...      4.283569       5.434804        29.457055   \n",
              "min         0.130800  ...     12.840000      16.670000        85.100000   \n",
              "25%         0.174050  ...     17.730000      25.782500       119.325000   \n",
              "50%         0.189900  ...     20.590000      28.945000       138.000000   \n",
              "75%         0.209850  ...     23.807500      32.690000       159.800000   \n",
              "max         0.304000  ...     36.040000      49.540000       251.200000   \n",
              "\n",
              "        area_worst  smoothness_worst  compactness_worst  concavity_worst  \\\n",
              "count   212.000000        212.000000         212.000000       212.000000   \n",
              "mean   1422.286321          0.144845           0.374824         0.450606   \n",
              "std     597.967743          0.021870           0.170372         0.181507   \n",
              "min     508.100000          0.088220           0.051310         0.023980   \n",
              "25%     970.300000          0.130475           0.244475         0.326425   \n",
              "50%    1303.000000          0.143450           0.356350         0.404900   \n",
              "75%    1712.750000          0.155975           0.447850         0.556175   \n",
              "max    4254.000000          0.222600           1.058000         1.170000   \n",
              "\n",
              "       concave points_worst  symmetry_worst  fractal_dimension_worst  \n",
              "count            212.000000      212.000000               212.000000  \n",
              "mean               0.182237        0.323468                 0.091530  \n",
              "std                0.046308        0.074685                 0.021553  \n",
              "min                0.028990        0.156500                 0.055040  \n",
              "25%                0.152750        0.276500                 0.076302  \n",
              "50%                0.182000        0.310300                 0.087600  \n",
              "75%                0.210675        0.359225                 0.102625  \n",
              "max                0.291000        0.663800                 0.207500  \n",
              "\n",
              "[8 rows x 31 columns]"
            ],
            "text/html": [
              "\n",
              "  <div id=\"df-29766aa0-b33a-4a44-bf38-ed070864f0f7\" class=\"colab-df-container\">\n",
              "    <div>\n",
              "<style scoped>\n",
              "    .dataframe tbody tr th:only-of-type {\n",
              "        vertical-align: middle;\n",
              "    }\n",
              "\n",
              "    .dataframe tbody tr th {\n",
              "        vertical-align: top;\n",
              "    }\n",
              "\n",
              "    .dataframe thead th {\n",
              "        text-align: right;\n",
              "    }\n",
              "</style>\n",
              "<table border=\"1\" class=\"dataframe\">\n",
              "  <thead>\n",
              "    <tr style=\"text-align: right;\">\n",
              "      <th></th>\n",
              "      <th>id</th>\n",
              "      <th>radius_mean</th>\n",
              "      <th>texture_mean</th>\n",
              "      <th>perimeter_mean</th>\n",
              "      <th>area_mean</th>\n",
              "      <th>smoothness_mean</th>\n",
              "      <th>compactness_mean</th>\n",
              "      <th>concavity_mean</th>\n",
              "      <th>concave points_mean</th>\n",
              "      <th>symmetry_mean</th>\n",
              "      <th>...</th>\n",
              "      <th>radius_worst</th>\n",
              "      <th>texture_worst</th>\n",
              "      <th>perimeter_worst</th>\n",
              "      <th>area_worst</th>\n",
              "      <th>smoothness_worst</th>\n",
              "      <th>compactness_worst</th>\n",
              "      <th>concavity_worst</th>\n",
              "      <th>concave points_worst</th>\n",
              "      <th>symmetry_worst</th>\n",
              "      <th>fractal_dimension_worst</th>\n",
              "    </tr>\n",
              "  </thead>\n",
              "  <tbody>\n",
              "    <tr>\n",
              "      <th>count</th>\n",
              "      <td>2.120000e+02</td>\n",
              "      <td>212.000000</td>\n",
              "      <td>212.000000</td>\n",
              "      <td>212.000000</td>\n",
              "      <td>212.000000</td>\n",
              "      <td>212.000000</td>\n",
              "      <td>212.000000</td>\n",
              "      <td>212.000000</td>\n",
              "      <td>212.000000</td>\n",
              "      <td>212.000000</td>\n",
              "      <td>...</td>\n",
              "      <td>212.000000</td>\n",
              "      <td>212.000000</td>\n",
              "      <td>212.000000</td>\n",
              "      <td>212.000000</td>\n",
              "      <td>212.000000</td>\n",
              "      <td>212.000000</td>\n",
              "      <td>212.000000</td>\n",
              "      <td>212.000000</td>\n",
              "      <td>212.000000</td>\n",
              "      <td>212.000000</td>\n",
              "    </tr>\n",
              "    <tr>\n",
              "      <th>mean</th>\n",
              "      <td>3.681805e+07</td>\n",
              "      <td>17.462830</td>\n",
              "      <td>21.604906</td>\n",
              "      <td>115.365377</td>\n",
              "      <td>978.376415</td>\n",
              "      <td>0.102898</td>\n",
              "      <td>0.145188</td>\n",
              "      <td>0.160775</td>\n",
              "      <td>0.087990</td>\n",
              "      <td>0.192909</td>\n",
              "      <td>...</td>\n",
              "      <td>21.134811</td>\n",
              "      <td>29.318208</td>\n",
              "      <td>141.370330</td>\n",
              "      <td>1422.286321</td>\n",
              "      <td>0.144845</td>\n",
              "      <td>0.374824</td>\n",
              "      <td>0.450606</td>\n",
              "      <td>0.182237</td>\n",
              "      <td>0.323468</td>\n",
              "      <td>0.091530</td>\n",
              "    </tr>\n",
              "    <tr>\n",
              "      <th>std</th>\n",
              "      <td>1.378965e+08</td>\n",
              "      <td>3.203971</td>\n",
              "      <td>3.779470</td>\n",
              "      <td>21.854653</td>\n",
              "      <td>367.937978</td>\n",
              "      <td>0.012608</td>\n",
              "      <td>0.053987</td>\n",
              "      <td>0.075019</td>\n",
              "      <td>0.034374</td>\n",
              "      <td>0.027638</td>\n",
              "      <td>...</td>\n",
              "      <td>4.283569</td>\n",
              "      <td>5.434804</td>\n",
              "      <td>29.457055</td>\n",
              "      <td>597.967743</td>\n",
              "      <td>0.021870</td>\n",
              "      <td>0.170372</td>\n",
              "      <td>0.181507</td>\n",
              "      <td>0.046308</td>\n",
              "      <td>0.074685</td>\n",
              "      <td>0.021553</td>\n",
              "    </tr>\n",
              "    <tr>\n",
              "      <th>min</th>\n",
              "      <td>8.670000e+03</td>\n",
              "      <td>10.950000</td>\n",
              "      <td>10.380000</td>\n",
              "      <td>71.900000</td>\n",
              "      <td>361.600000</td>\n",
              "      <td>0.073710</td>\n",
              "      <td>0.046050</td>\n",
              "      <td>0.023980</td>\n",
              "      <td>0.020310</td>\n",
              "      <td>0.130800</td>\n",
              "      <td>...</td>\n",
              "      <td>12.840000</td>\n",
              "      <td>16.670000</td>\n",
              "      <td>85.100000</td>\n",
              "      <td>508.100000</td>\n",
              "      <td>0.088220</td>\n",
              "      <td>0.051310</td>\n",
              "      <td>0.023980</td>\n",
              "      <td>0.028990</td>\n",
              "      <td>0.156500</td>\n",
              "      <td>0.055040</td>\n",
              "    </tr>\n",
              "    <tr>\n",
              "      <th>25%</th>\n",
              "      <td>8.613450e+05</td>\n",
              "      <td>15.075000</td>\n",
              "      <td>19.327500</td>\n",
              "      <td>98.745000</td>\n",
              "      <td>705.300000</td>\n",
              "      <td>0.094010</td>\n",
              "      <td>0.109600</td>\n",
              "      <td>0.109525</td>\n",
              "      <td>0.064620</td>\n",
              "      <td>0.174050</td>\n",
              "      <td>...</td>\n",
              "      <td>17.730000</td>\n",
              "      <td>25.782500</td>\n",
              "      <td>119.325000</td>\n",
              "      <td>970.300000</td>\n",
              "      <td>0.130475</td>\n",
              "      <td>0.244475</td>\n",
              "      <td>0.326425</td>\n",
              "      <td>0.152750</td>\n",
              "      <td>0.276500</td>\n",
              "      <td>0.076302</td>\n",
              "    </tr>\n",
              "    <tr>\n",
              "      <th>50%</th>\n",
              "      <td>8.953665e+05</td>\n",
              "      <td>17.325000</td>\n",
              "      <td>21.460000</td>\n",
              "      <td>114.200000</td>\n",
              "      <td>932.000000</td>\n",
              "      <td>0.102200</td>\n",
              "      <td>0.132350</td>\n",
              "      <td>0.151350</td>\n",
              "      <td>0.086280</td>\n",
              "      <td>0.189900</td>\n",
              "      <td>...</td>\n",
              "      <td>20.590000</td>\n",
              "      <td>28.945000</td>\n",
              "      <td>138.000000</td>\n",
              "      <td>1303.000000</td>\n",
              "      <td>0.143450</td>\n",
              "      <td>0.356350</td>\n",
              "      <td>0.404900</td>\n",
              "      <td>0.182000</td>\n",
              "      <td>0.310300</td>\n",
              "      <td>0.087600</td>\n",
              "    </tr>\n",
              "    <tr>\n",
              "      <th>75%</th>\n",
              "      <td>8.911290e+06</td>\n",
              "      <td>19.590000</td>\n",
              "      <td>23.765000</td>\n",
              "      <td>129.925000</td>\n",
              "      <td>1203.750000</td>\n",
              "      <td>0.110925</td>\n",
              "      <td>0.172400</td>\n",
              "      <td>0.203050</td>\n",
              "      <td>0.103175</td>\n",
              "      <td>0.209850</td>\n",
              "      <td>...</td>\n",
              "      <td>23.807500</td>\n",
              "      <td>32.690000</td>\n",
              "      <td>159.800000</td>\n",
              "      <td>1712.750000</td>\n",
              "      <td>0.155975</td>\n",
              "      <td>0.447850</td>\n",
              "      <td>0.556175</td>\n",
              "      <td>0.210675</td>\n",
              "      <td>0.359225</td>\n",
              "      <td>0.102625</td>\n",
              "    </tr>\n",
              "    <tr>\n",
              "      <th>max</th>\n",
              "      <td>9.112962e+08</td>\n",
              "      <td>28.110000</td>\n",
              "      <td>39.280000</td>\n",
              "      <td>188.500000</td>\n",
              "      <td>2501.000000</td>\n",
              "      <td>0.144700</td>\n",
              "      <td>0.345400</td>\n",
              "      <td>0.426800</td>\n",
              "      <td>0.201200</td>\n",
              "      <td>0.304000</td>\n",
              "      <td>...</td>\n",
              "      <td>36.040000</td>\n",
              "      <td>49.540000</td>\n",
              "      <td>251.200000</td>\n",
              "      <td>4254.000000</td>\n",
              "      <td>0.222600</td>\n",
              "      <td>1.058000</td>\n",
              "      <td>1.170000</td>\n",
              "      <td>0.291000</td>\n",
              "      <td>0.663800</td>\n",
              "      <td>0.207500</td>\n",
              "    </tr>\n",
              "  </tbody>\n",
              "</table>\n",
              "<p>8 rows × 31 columns</p>\n",
              "</div>\n",
              "    <div class=\"colab-df-buttons\">\n",
              "\n",
              "  <div class=\"colab-df-container\">\n",
              "    <button class=\"colab-df-convert\" onclick=\"convertToInteractive('df-29766aa0-b33a-4a44-bf38-ed070864f0f7')\"\n",
              "            title=\"Convert this dataframe to an interactive table.\"\n",
              "            style=\"display:none;\">\n",
              "\n",
              "  <svg xmlns=\"http://www.w3.org/2000/svg\" height=\"24px\" viewBox=\"0 -960 960 960\">\n",
              "    <path d=\"M120-120v-720h720v720H120Zm60-500h600v-160H180v160Zm220 220h160v-160H400v160Zm0 220h160v-160H400v160ZM180-400h160v-160H180v160Zm440 0h160v-160H620v160ZM180-180h160v-160H180v160Zm440 0h160v-160H620v160Z\"/>\n",
              "  </svg>\n",
              "    </button>\n",
              "\n",
              "  <style>\n",
              "    .colab-df-container {\n",
              "      display:flex;\n",
              "      gap: 12px;\n",
              "    }\n",
              "\n",
              "    .colab-df-convert {\n",
              "      background-color: #E8F0FE;\n",
              "      border: none;\n",
              "      border-radius: 50%;\n",
              "      cursor: pointer;\n",
              "      display: none;\n",
              "      fill: #1967D2;\n",
              "      height: 32px;\n",
              "      padding: 0 0 0 0;\n",
              "      width: 32px;\n",
              "    }\n",
              "\n",
              "    .colab-df-convert:hover {\n",
              "      background-color: #E2EBFA;\n",
              "      box-shadow: 0px 1px 2px rgba(60, 64, 67, 0.3), 0px 1px 3px 1px rgba(60, 64, 67, 0.15);\n",
              "      fill: #174EA6;\n",
              "    }\n",
              "\n",
              "    .colab-df-buttons div {\n",
              "      margin-bottom: 4px;\n",
              "    }\n",
              "\n",
              "    [theme=dark] .colab-df-convert {\n",
              "      background-color: #3B4455;\n",
              "      fill: #D2E3FC;\n",
              "    }\n",
              "\n",
              "    [theme=dark] .colab-df-convert:hover {\n",
              "      background-color: #434B5C;\n",
              "      box-shadow: 0px 1px 3px 1px rgba(0, 0, 0, 0.15);\n",
              "      filter: drop-shadow(0px 1px 2px rgba(0, 0, 0, 0.3));\n",
              "      fill: #FFFFFF;\n",
              "    }\n",
              "  </style>\n",
              "\n",
              "    <script>\n",
              "      const buttonEl =\n",
              "        document.querySelector('#df-29766aa0-b33a-4a44-bf38-ed070864f0f7 button.colab-df-convert');\n",
              "      buttonEl.style.display =\n",
              "        google.colab.kernel.accessAllowed ? 'block' : 'none';\n",
              "\n",
              "      async function convertToInteractive(key) {\n",
              "        const element = document.querySelector('#df-29766aa0-b33a-4a44-bf38-ed070864f0f7');\n",
              "        const dataTable =\n",
              "          await google.colab.kernel.invokeFunction('convertToInteractive',\n",
              "                                                    [key], {});\n",
              "        if (!dataTable) return;\n",
              "\n",
              "        const docLinkHtml = 'Like what you see? Visit the ' +\n",
              "          '<a target=\"_blank\" href=https://colab.research.google.com/notebooks/data_table.ipynb>data table notebook</a>'\n",
              "          + ' to learn more about interactive tables.';\n",
              "        element.innerHTML = '';\n",
              "        dataTable['output_type'] = 'display_data';\n",
              "        await google.colab.output.renderOutput(dataTable, element);\n",
              "        const docLink = document.createElement('div');\n",
              "        docLink.innerHTML = docLinkHtml;\n",
              "        element.appendChild(docLink);\n",
              "      }\n",
              "    </script>\n",
              "  </div>\n",
              "\n",
              "\n",
              "<div id=\"df-761b6a57-4eef-40c4-8306-3c41ed11a364\">\n",
              "  <button class=\"colab-df-quickchart\" onclick=\"quickchart('df-761b6a57-4eef-40c4-8306-3c41ed11a364')\"\n",
              "            title=\"Suggest charts.\"\n",
              "            style=\"display:none;\">\n",
              "\n",
              "<svg xmlns=\"http://www.w3.org/2000/svg\" height=\"24px\"viewBox=\"0 0 24 24\"\n",
              "     width=\"24px\">\n",
              "    <g>\n",
              "        <path d=\"M19 3H5c-1.1 0-2 .9-2 2v14c0 1.1.9 2 2 2h14c1.1 0 2-.9 2-2V5c0-1.1-.9-2-2-2zM9 17H7v-7h2v7zm4 0h-2V7h2v10zm4 0h-2v-4h2v4z\"/>\n",
              "    </g>\n",
              "</svg>\n",
              "  </button>\n",
              "\n",
              "<style>\n",
              "  .colab-df-quickchart {\n",
              "      --bg-color: #E8F0FE;\n",
              "      --fill-color: #1967D2;\n",
              "      --hover-bg-color: #E2EBFA;\n",
              "      --hover-fill-color: #174EA6;\n",
              "      --disabled-fill-color: #AAA;\n",
              "      --disabled-bg-color: #DDD;\n",
              "  }\n",
              "\n",
              "  [theme=dark] .colab-df-quickchart {\n",
              "      --bg-color: #3B4455;\n",
              "      --fill-color: #D2E3FC;\n",
              "      --hover-bg-color: #434B5C;\n",
              "      --hover-fill-color: #FFFFFF;\n",
              "      --disabled-bg-color: #3B4455;\n",
              "      --disabled-fill-color: #666;\n",
              "  }\n",
              "\n",
              "  .colab-df-quickchart {\n",
              "    background-color: var(--bg-color);\n",
              "    border: none;\n",
              "    border-radius: 50%;\n",
              "    cursor: pointer;\n",
              "    display: none;\n",
              "    fill: var(--fill-color);\n",
              "    height: 32px;\n",
              "    padding: 0;\n",
              "    width: 32px;\n",
              "  }\n",
              "\n",
              "  .colab-df-quickchart:hover {\n",
              "    background-color: var(--hover-bg-color);\n",
              "    box-shadow: 0 1px 2px rgba(60, 64, 67, 0.3), 0 1px 3px 1px rgba(60, 64, 67, 0.15);\n",
              "    fill: var(--button-hover-fill-color);\n",
              "  }\n",
              "\n",
              "  .colab-df-quickchart-complete:disabled,\n",
              "  .colab-df-quickchart-complete:disabled:hover {\n",
              "    background-color: var(--disabled-bg-color);\n",
              "    fill: var(--disabled-fill-color);\n",
              "    box-shadow: none;\n",
              "  }\n",
              "\n",
              "  .colab-df-spinner {\n",
              "    border: 2px solid var(--fill-color);\n",
              "    border-color: transparent;\n",
              "    border-bottom-color: var(--fill-color);\n",
              "    animation:\n",
              "      spin 1s steps(1) infinite;\n",
              "  }\n",
              "\n",
              "  @keyframes spin {\n",
              "    0% {\n",
              "      border-color: transparent;\n",
              "      border-bottom-color: var(--fill-color);\n",
              "      border-left-color: var(--fill-color);\n",
              "    }\n",
              "    20% {\n",
              "      border-color: transparent;\n",
              "      border-left-color: var(--fill-color);\n",
              "      border-top-color: var(--fill-color);\n",
              "    }\n",
              "    30% {\n",
              "      border-color: transparent;\n",
              "      border-left-color: var(--fill-color);\n",
              "      border-top-color: var(--fill-color);\n",
              "      border-right-color: var(--fill-color);\n",
              "    }\n",
              "    40% {\n",
              "      border-color: transparent;\n",
              "      border-right-color: var(--fill-color);\n",
              "      border-top-color: var(--fill-color);\n",
              "    }\n",
              "    60% {\n",
              "      border-color: transparent;\n",
              "      border-right-color: var(--fill-color);\n",
              "    }\n",
              "    80% {\n",
              "      border-color: transparent;\n",
              "      border-right-color: var(--fill-color);\n",
              "      border-bottom-color: var(--fill-color);\n",
              "    }\n",
              "    90% {\n",
              "      border-color: transparent;\n",
              "      border-bottom-color: var(--fill-color);\n",
              "    }\n",
              "  }\n",
              "</style>\n",
              "\n",
              "  <script>\n",
              "    async function quickchart(key) {\n",
              "      const quickchartButtonEl =\n",
              "        document.querySelector('#' + key + ' button');\n",
              "      quickchartButtonEl.disabled = true;  // To prevent multiple clicks.\n",
              "      quickchartButtonEl.classList.add('colab-df-spinner');\n",
              "      try {\n",
              "        const charts = await google.colab.kernel.invokeFunction(\n",
              "            'suggestCharts', [key], {});\n",
              "      } catch (error) {\n",
              "        console.error('Error during call to suggestCharts:', error);\n",
              "      }\n",
              "      quickchartButtonEl.classList.remove('colab-df-spinner');\n",
              "      quickchartButtonEl.classList.add('colab-df-quickchart-complete');\n",
              "    }\n",
              "    (() => {\n",
              "      let quickchartButtonEl =\n",
              "        document.querySelector('#df-761b6a57-4eef-40c4-8306-3c41ed11a364 button');\n",
              "      quickchartButtonEl.style.display =\n",
              "        google.colab.kernel.accessAllowed ? 'block' : 'none';\n",
              "    })();\n",
              "  </script>\n",
              "</div>\n",
              "    </div>\n",
              "  </div>\n"
            ]
          },
          "metadata": {},
          "execution_count": 9
        }
      ]
    },
    {
      "cell_type": "code",
      "source": [
        "# Gera estatísticas descritivas para o DataFrame 'breast_cancerB', que contém amostras de tumores benignos.\n",
        "\n",
        "breast_cancerB.describe()"
      ],
      "metadata": {
        "colab": {
          "base_uri": "https://localhost:8080/",
          "height": 367
        },
        "id": "ebUfDzWlfteg",
        "outputId": "02070317-b504-4238-8131-57586d691570"
      },
      "execution_count": null,
      "outputs": [
        {
          "output_type": "execute_result",
          "data": {
            "text/plain": [
              "                 id  radius_mean  texture_mean  perimeter_mean   area_mean  \\\n",
              "count  3.570000e+02   357.000000    357.000000      357.000000  357.000000   \n",
              "mean   2.654382e+07    12.146524     17.914762       78.075406  462.790196   \n",
              "std    1.167397e+08     1.780512      3.995125       11.807438  134.287118   \n",
              "min    8.913000e+03     6.981000      9.710000       43.790000  143.500000   \n",
              "25%    8.746620e+05    11.080000     15.150000       70.870000  378.200000   \n",
              "50%    9.089160e+05    12.200000     17.390000       78.180000  458.400000   \n",
              "75%    8.812816e+06    13.370000     19.760000       86.100000  551.100000   \n",
              "max    9.113205e+08    17.850000     33.810000      114.600000  992.100000   \n",
              "\n",
              "       smoothness_mean  compactness_mean  concavity_mean  concave points_mean  \\\n",
              "count       357.000000        357.000000      357.000000           357.000000   \n",
              "mean          0.092478          0.080085        0.046058             0.025717   \n",
              "std           0.013446          0.033750        0.043442             0.015909   \n",
              "min           0.052630          0.019380        0.000000             0.000000   \n",
              "25%           0.083060          0.055620        0.020310             0.015020   \n",
              "50%           0.090760          0.075290        0.037090             0.023440   \n",
              "75%           0.100700          0.097550        0.059990             0.032510   \n",
              "max           0.163400          0.223900        0.410800             0.085340   \n",
              "\n",
              "       symmetry_mean  ...  radius_worst  texture_worst  perimeter_worst  \\\n",
              "count     357.000000  ...    357.000000     357.000000       357.000000   \n",
              "mean        0.174186  ...     13.379801      23.515070        87.005938   \n",
              "std         0.024807  ...      1.981368       5.493955        13.527091   \n",
              "min         0.106000  ...      7.930000      12.020000        50.410000   \n",
              "25%         0.158000  ...     12.080000      19.580000        78.270000   \n",
              "50%         0.171400  ...     13.350000      22.820000        86.920000   \n",
              "75%         0.189000  ...     14.800000      26.510000        96.590000   \n",
              "max         0.274300  ...     19.820000      41.780000       127.100000   \n",
              "\n",
              "        area_worst  smoothness_worst  compactness_worst  concavity_worst  \\\n",
              "count   357.000000        357.000000         357.000000       357.000000   \n",
              "mean    558.899440          0.124959           0.182673         0.166238   \n",
              "std     163.601424          0.020013           0.092180         0.140368   \n",
              "min     185.200000          0.071170           0.027290         0.000000   \n",
              "25%     447.100000          0.110400           0.112000         0.077080   \n",
              "50%     547.400000          0.125400           0.169800         0.141200   \n",
              "75%     670.000000          0.137600           0.230200         0.221600   \n",
              "max    1210.000000          0.200600           0.584900         1.252000   \n",
              "\n",
              "       concave points_worst  symmetry_worst  fractal_dimension_worst  \n",
              "count            357.000000      357.000000               357.000000  \n",
              "mean               0.074444        0.270246                 0.079442  \n",
              "std                0.035797        0.041745                 0.013804  \n",
              "min                0.000000        0.156600                 0.055210  \n",
              "25%                0.051040        0.240600                 0.070090  \n",
              "50%                0.074310        0.268700                 0.077120  \n",
              "75%                0.097490        0.298300                 0.085410  \n",
              "max                0.175000        0.422800                 0.148600  \n",
              "\n",
              "[8 rows x 31 columns]"
            ],
            "text/html": [
              "\n",
              "  <div id=\"df-d2ea8698-22f4-4639-9673-ba49bb65442e\" class=\"colab-df-container\">\n",
              "    <div>\n",
              "<style scoped>\n",
              "    .dataframe tbody tr th:only-of-type {\n",
              "        vertical-align: middle;\n",
              "    }\n",
              "\n",
              "    .dataframe tbody tr th {\n",
              "        vertical-align: top;\n",
              "    }\n",
              "\n",
              "    .dataframe thead th {\n",
              "        text-align: right;\n",
              "    }\n",
              "</style>\n",
              "<table border=\"1\" class=\"dataframe\">\n",
              "  <thead>\n",
              "    <tr style=\"text-align: right;\">\n",
              "      <th></th>\n",
              "      <th>id</th>\n",
              "      <th>radius_mean</th>\n",
              "      <th>texture_mean</th>\n",
              "      <th>perimeter_mean</th>\n",
              "      <th>area_mean</th>\n",
              "      <th>smoothness_mean</th>\n",
              "      <th>compactness_mean</th>\n",
              "      <th>concavity_mean</th>\n",
              "      <th>concave points_mean</th>\n",
              "      <th>symmetry_mean</th>\n",
              "      <th>...</th>\n",
              "      <th>radius_worst</th>\n",
              "      <th>texture_worst</th>\n",
              "      <th>perimeter_worst</th>\n",
              "      <th>area_worst</th>\n",
              "      <th>smoothness_worst</th>\n",
              "      <th>compactness_worst</th>\n",
              "      <th>concavity_worst</th>\n",
              "      <th>concave points_worst</th>\n",
              "      <th>symmetry_worst</th>\n",
              "      <th>fractal_dimension_worst</th>\n",
              "    </tr>\n",
              "  </thead>\n",
              "  <tbody>\n",
              "    <tr>\n",
              "      <th>count</th>\n",
              "      <td>3.570000e+02</td>\n",
              "      <td>357.000000</td>\n",
              "      <td>357.000000</td>\n",
              "      <td>357.000000</td>\n",
              "      <td>357.000000</td>\n",
              "      <td>357.000000</td>\n",
              "      <td>357.000000</td>\n",
              "      <td>357.000000</td>\n",
              "      <td>357.000000</td>\n",
              "      <td>357.000000</td>\n",
              "      <td>...</td>\n",
              "      <td>357.000000</td>\n",
              "      <td>357.000000</td>\n",
              "      <td>357.000000</td>\n",
              "      <td>357.000000</td>\n",
              "      <td>357.000000</td>\n",
              "      <td>357.000000</td>\n",
              "      <td>357.000000</td>\n",
              "      <td>357.000000</td>\n",
              "      <td>357.000000</td>\n",
              "      <td>357.000000</td>\n",
              "    </tr>\n",
              "    <tr>\n",
              "      <th>mean</th>\n",
              "      <td>2.654382e+07</td>\n",
              "      <td>12.146524</td>\n",
              "      <td>17.914762</td>\n",
              "      <td>78.075406</td>\n",
              "      <td>462.790196</td>\n",
              "      <td>0.092478</td>\n",
              "      <td>0.080085</td>\n",
              "      <td>0.046058</td>\n",
              "      <td>0.025717</td>\n",
              "      <td>0.174186</td>\n",
              "      <td>...</td>\n",
              "      <td>13.379801</td>\n",
              "      <td>23.515070</td>\n",
              "      <td>87.005938</td>\n",
              "      <td>558.899440</td>\n",
              "      <td>0.124959</td>\n",
              "      <td>0.182673</td>\n",
              "      <td>0.166238</td>\n",
              "      <td>0.074444</td>\n",
              "      <td>0.270246</td>\n",
              "      <td>0.079442</td>\n",
              "    </tr>\n",
              "    <tr>\n",
              "      <th>std</th>\n",
              "      <td>1.167397e+08</td>\n",
              "      <td>1.780512</td>\n",
              "      <td>3.995125</td>\n",
              "      <td>11.807438</td>\n",
              "      <td>134.287118</td>\n",
              "      <td>0.013446</td>\n",
              "      <td>0.033750</td>\n",
              "      <td>0.043442</td>\n",
              "      <td>0.015909</td>\n",
              "      <td>0.024807</td>\n",
              "      <td>...</td>\n",
              "      <td>1.981368</td>\n",
              "      <td>5.493955</td>\n",
              "      <td>13.527091</td>\n",
              "      <td>163.601424</td>\n",
              "      <td>0.020013</td>\n",
              "      <td>0.092180</td>\n",
              "      <td>0.140368</td>\n",
              "      <td>0.035797</td>\n",
              "      <td>0.041745</td>\n",
              "      <td>0.013804</td>\n",
              "    </tr>\n",
              "    <tr>\n",
              "      <th>min</th>\n",
              "      <td>8.913000e+03</td>\n",
              "      <td>6.981000</td>\n",
              "      <td>9.710000</td>\n",
              "      <td>43.790000</td>\n",
              "      <td>143.500000</td>\n",
              "      <td>0.052630</td>\n",
              "      <td>0.019380</td>\n",
              "      <td>0.000000</td>\n",
              "      <td>0.000000</td>\n",
              "      <td>0.106000</td>\n",
              "      <td>...</td>\n",
              "      <td>7.930000</td>\n",
              "      <td>12.020000</td>\n",
              "      <td>50.410000</td>\n",
              "      <td>185.200000</td>\n",
              "      <td>0.071170</td>\n",
              "      <td>0.027290</td>\n",
              "      <td>0.000000</td>\n",
              "      <td>0.000000</td>\n",
              "      <td>0.156600</td>\n",
              "      <td>0.055210</td>\n",
              "    </tr>\n",
              "    <tr>\n",
              "      <th>25%</th>\n",
              "      <td>8.746620e+05</td>\n",
              "      <td>11.080000</td>\n",
              "      <td>15.150000</td>\n",
              "      <td>70.870000</td>\n",
              "      <td>378.200000</td>\n",
              "      <td>0.083060</td>\n",
              "      <td>0.055620</td>\n",
              "      <td>0.020310</td>\n",
              "      <td>0.015020</td>\n",
              "      <td>0.158000</td>\n",
              "      <td>...</td>\n",
              "      <td>12.080000</td>\n",
              "      <td>19.580000</td>\n",
              "      <td>78.270000</td>\n",
              "      <td>447.100000</td>\n",
              "      <td>0.110400</td>\n",
              "      <td>0.112000</td>\n",
              "      <td>0.077080</td>\n",
              "      <td>0.051040</td>\n",
              "      <td>0.240600</td>\n",
              "      <td>0.070090</td>\n",
              "    </tr>\n",
              "    <tr>\n",
              "      <th>50%</th>\n",
              "      <td>9.089160e+05</td>\n",
              "      <td>12.200000</td>\n",
              "      <td>17.390000</td>\n",
              "      <td>78.180000</td>\n",
              "      <td>458.400000</td>\n",
              "      <td>0.090760</td>\n",
              "      <td>0.075290</td>\n",
              "      <td>0.037090</td>\n",
              "      <td>0.023440</td>\n",
              "      <td>0.171400</td>\n",
              "      <td>...</td>\n",
              "      <td>13.350000</td>\n",
              "      <td>22.820000</td>\n",
              "      <td>86.920000</td>\n",
              "      <td>547.400000</td>\n",
              "      <td>0.125400</td>\n",
              "      <td>0.169800</td>\n",
              "      <td>0.141200</td>\n",
              "      <td>0.074310</td>\n",
              "      <td>0.268700</td>\n",
              "      <td>0.077120</td>\n",
              "    </tr>\n",
              "    <tr>\n",
              "      <th>75%</th>\n",
              "      <td>8.812816e+06</td>\n",
              "      <td>13.370000</td>\n",
              "      <td>19.760000</td>\n",
              "      <td>86.100000</td>\n",
              "      <td>551.100000</td>\n",
              "      <td>0.100700</td>\n",
              "      <td>0.097550</td>\n",
              "      <td>0.059990</td>\n",
              "      <td>0.032510</td>\n",
              "      <td>0.189000</td>\n",
              "      <td>...</td>\n",
              "      <td>14.800000</td>\n",
              "      <td>26.510000</td>\n",
              "      <td>96.590000</td>\n",
              "      <td>670.000000</td>\n",
              "      <td>0.137600</td>\n",
              "      <td>0.230200</td>\n",
              "      <td>0.221600</td>\n",
              "      <td>0.097490</td>\n",
              "      <td>0.298300</td>\n",
              "      <td>0.085410</td>\n",
              "    </tr>\n",
              "    <tr>\n",
              "      <th>max</th>\n",
              "      <td>9.113205e+08</td>\n",
              "      <td>17.850000</td>\n",
              "      <td>33.810000</td>\n",
              "      <td>114.600000</td>\n",
              "      <td>992.100000</td>\n",
              "      <td>0.163400</td>\n",
              "      <td>0.223900</td>\n",
              "      <td>0.410800</td>\n",
              "      <td>0.085340</td>\n",
              "      <td>0.274300</td>\n",
              "      <td>...</td>\n",
              "      <td>19.820000</td>\n",
              "      <td>41.780000</td>\n",
              "      <td>127.100000</td>\n",
              "      <td>1210.000000</td>\n",
              "      <td>0.200600</td>\n",
              "      <td>0.584900</td>\n",
              "      <td>1.252000</td>\n",
              "      <td>0.175000</td>\n",
              "      <td>0.422800</td>\n",
              "      <td>0.148600</td>\n",
              "    </tr>\n",
              "  </tbody>\n",
              "</table>\n",
              "<p>8 rows × 31 columns</p>\n",
              "</div>\n",
              "    <div class=\"colab-df-buttons\">\n",
              "\n",
              "  <div class=\"colab-df-container\">\n",
              "    <button class=\"colab-df-convert\" onclick=\"convertToInteractive('df-d2ea8698-22f4-4639-9673-ba49bb65442e')\"\n",
              "            title=\"Convert this dataframe to an interactive table.\"\n",
              "            style=\"display:none;\">\n",
              "\n",
              "  <svg xmlns=\"http://www.w3.org/2000/svg\" height=\"24px\" viewBox=\"0 -960 960 960\">\n",
              "    <path d=\"M120-120v-720h720v720H120Zm60-500h600v-160H180v160Zm220 220h160v-160H400v160Zm0 220h160v-160H400v160ZM180-400h160v-160H180v160Zm440 0h160v-160H620v160ZM180-180h160v-160H180v160Zm440 0h160v-160H620v160Z\"/>\n",
              "  </svg>\n",
              "    </button>\n",
              "\n",
              "  <style>\n",
              "    .colab-df-container {\n",
              "      display:flex;\n",
              "      gap: 12px;\n",
              "    }\n",
              "\n",
              "    .colab-df-convert {\n",
              "      background-color: #E8F0FE;\n",
              "      border: none;\n",
              "      border-radius: 50%;\n",
              "      cursor: pointer;\n",
              "      display: none;\n",
              "      fill: #1967D2;\n",
              "      height: 32px;\n",
              "      padding: 0 0 0 0;\n",
              "      width: 32px;\n",
              "    }\n",
              "\n",
              "    .colab-df-convert:hover {\n",
              "      background-color: #E2EBFA;\n",
              "      box-shadow: 0px 1px 2px rgba(60, 64, 67, 0.3), 0px 1px 3px 1px rgba(60, 64, 67, 0.15);\n",
              "      fill: #174EA6;\n",
              "    }\n",
              "\n",
              "    .colab-df-buttons div {\n",
              "      margin-bottom: 4px;\n",
              "    }\n",
              "\n",
              "    [theme=dark] .colab-df-convert {\n",
              "      background-color: #3B4455;\n",
              "      fill: #D2E3FC;\n",
              "    }\n",
              "\n",
              "    [theme=dark] .colab-df-convert:hover {\n",
              "      background-color: #434B5C;\n",
              "      box-shadow: 0px 1px 3px 1px rgba(0, 0, 0, 0.15);\n",
              "      filter: drop-shadow(0px 1px 2px rgba(0, 0, 0, 0.3));\n",
              "      fill: #FFFFFF;\n",
              "    }\n",
              "  </style>\n",
              "\n",
              "    <script>\n",
              "      const buttonEl =\n",
              "        document.querySelector('#df-d2ea8698-22f4-4639-9673-ba49bb65442e button.colab-df-convert');\n",
              "      buttonEl.style.display =\n",
              "        google.colab.kernel.accessAllowed ? 'block' : 'none';\n",
              "\n",
              "      async function convertToInteractive(key) {\n",
              "        const element = document.querySelector('#df-d2ea8698-22f4-4639-9673-ba49bb65442e');\n",
              "        const dataTable =\n",
              "          await google.colab.kernel.invokeFunction('convertToInteractive',\n",
              "                                                    [key], {});\n",
              "        if (!dataTable) return;\n",
              "\n",
              "        const docLinkHtml = 'Like what you see? Visit the ' +\n",
              "          '<a target=\"_blank\" href=https://colab.research.google.com/notebooks/data_table.ipynb>data table notebook</a>'\n",
              "          + ' to learn more about interactive tables.';\n",
              "        element.innerHTML = '';\n",
              "        dataTable['output_type'] = 'display_data';\n",
              "        await google.colab.output.renderOutput(dataTable, element);\n",
              "        const docLink = document.createElement('div');\n",
              "        docLink.innerHTML = docLinkHtml;\n",
              "        element.appendChild(docLink);\n",
              "      }\n",
              "    </script>\n",
              "  </div>\n",
              "\n",
              "\n",
              "<div id=\"df-53fc7eba-d2f5-40a8-aa2c-0606030ac40d\">\n",
              "  <button class=\"colab-df-quickchart\" onclick=\"quickchart('df-53fc7eba-d2f5-40a8-aa2c-0606030ac40d')\"\n",
              "            title=\"Suggest charts.\"\n",
              "            style=\"display:none;\">\n",
              "\n",
              "<svg xmlns=\"http://www.w3.org/2000/svg\" height=\"24px\"viewBox=\"0 0 24 24\"\n",
              "     width=\"24px\">\n",
              "    <g>\n",
              "        <path d=\"M19 3H5c-1.1 0-2 .9-2 2v14c0 1.1.9 2 2 2h14c1.1 0 2-.9 2-2V5c0-1.1-.9-2-2-2zM9 17H7v-7h2v7zm4 0h-2V7h2v10zm4 0h-2v-4h2v4z\"/>\n",
              "    </g>\n",
              "</svg>\n",
              "  </button>\n",
              "\n",
              "<style>\n",
              "  .colab-df-quickchart {\n",
              "      --bg-color: #E8F0FE;\n",
              "      --fill-color: #1967D2;\n",
              "      --hover-bg-color: #E2EBFA;\n",
              "      --hover-fill-color: #174EA6;\n",
              "      --disabled-fill-color: #AAA;\n",
              "      --disabled-bg-color: #DDD;\n",
              "  }\n",
              "\n",
              "  [theme=dark] .colab-df-quickchart {\n",
              "      --bg-color: #3B4455;\n",
              "      --fill-color: #D2E3FC;\n",
              "      --hover-bg-color: #434B5C;\n",
              "      --hover-fill-color: #FFFFFF;\n",
              "      --disabled-bg-color: #3B4455;\n",
              "      --disabled-fill-color: #666;\n",
              "  }\n",
              "\n",
              "  .colab-df-quickchart {\n",
              "    background-color: var(--bg-color);\n",
              "    border: none;\n",
              "    border-radius: 50%;\n",
              "    cursor: pointer;\n",
              "    display: none;\n",
              "    fill: var(--fill-color);\n",
              "    height: 32px;\n",
              "    padding: 0;\n",
              "    width: 32px;\n",
              "  }\n",
              "\n",
              "  .colab-df-quickchart:hover {\n",
              "    background-color: var(--hover-bg-color);\n",
              "    box-shadow: 0 1px 2px rgba(60, 64, 67, 0.3), 0 1px 3px 1px rgba(60, 64, 67, 0.15);\n",
              "    fill: var(--button-hover-fill-color);\n",
              "  }\n",
              "\n",
              "  .colab-df-quickchart-complete:disabled,\n",
              "  .colab-df-quickchart-complete:disabled:hover {\n",
              "    background-color: var(--disabled-bg-color);\n",
              "    fill: var(--disabled-fill-color);\n",
              "    box-shadow: none;\n",
              "  }\n",
              "\n",
              "  .colab-df-spinner {\n",
              "    border: 2px solid var(--fill-color);\n",
              "    border-color: transparent;\n",
              "    border-bottom-color: var(--fill-color);\n",
              "    animation:\n",
              "      spin 1s steps(1) infinite;\n",
              "  }\n",
              "\n",
              "  @keyframes spin {\n",
              "    0% {\n",
              "      border-color: transparent;\n",
              "      border-bottom-color: var(--fill-color);\n",
              "      border-left-color: var(--fill-color);\n",
              "    }\n",
              "    20% {\n",
              "      border-color: transparent;\n",
              "      border-left-color: var(--fill-color);\n",
              "      border-top-color: var(--fill-color);\n",
              "    }\n",
              "    30% {\n",
              "      border-color: transparent;\n",
              "      border-left-color: var(--fill-color);\n",
              "      border-top-color: var(--fill-color);\n",
              "      border-right-color: var(--fill-color);\n",
              "    }\n",
              "    40% {\n",
              "      border-color: transparent;\n",
              "      border-right-color: var(--fill-color);\n",
              "      border-top-color: var(--fill-color);\n",
              "    }\n",
              "    60% {\n",
              "      border-color: transparent;\n",
              "      border-right-color: var(--fill-color);\n",
              "    }\n",
              "    80% {\n",
              "      border-color: transparent;\n",
              "      border-right-color: var(--fill-color);\n",
              "      border-bottom-color: var(--fill-color);\n",
              "    }\n",
              "    90% {\n",
              "      border-color: transparent;\n",
              "      border-bottom-color: var(--fill-color);\n",
              "    }\n",
              "  }\n",
              "</style>\n",
              "\n",
              "  <script>\n",
              "    async function quickchart(key) {\n",
              "      const quickchartButtonEl =\n",
              "        document.querySelector('#' + key + ' button');\n",
              "      quickchartButtonEl.disabled = true;  // To prevent multiple clicks.\n",
              "      quickchartButtonEl.classList.add('colab-df-spinner');\n",
              "      try {\n",
              "        const charts = await google.colab.kernel.invokeFunction(\n",
              "            'suggestCharts', [key], {});\n",
              "      } catch (error) {\n",
              "        console.error('Error during call to suggestCharts:', error);\n",
              "      }\n",
              "      quickchartButtonEl.classList.remove('colab-df-spinner');\n",
              "      quickchartButtonEl.classList.add('colab-df-quickchart-complete');\n",
              "    }\n",
              "    (() => {\n",
              "      let quickchartButtonEl =\n",
              "        document.querySelector('#df-53fc7eba-d2f5-40a8-aa2c-0606030ac40d button');\n",
              "      quickchartButtonEl.style.display =\n",
              "        google.colab.kernel.accessAllowed ? 'block' : 'none';\n",
              "    })();\n",
              "  </script>\n",
              "</div>\n",
              "    </div>\n",
              "  </div>\n"
            ]
          },
          "metadata": {},
          "execution_count": 10
        }
      ]
    },
    {
      "cell_type": "code",
      "source": [
        "# Atribui valores numéricos às amostras da coluna 'diagnosis' no DataFrame 'breast_cancer', onde 'M' é mapeado para 1 e 'B' é mapeado para 0.\n",
        "\n",
        "breast_cancer['diagnosis'] = breast_cancer['diagnosis'].apply(lambda x: 1 if x == 'M' else 0)"
      ],
      "metadata": {
        "id": "7JwHKnVK1L_E"
      },
      "execution_count": null,
      "outputs": []
    },
    {
      "cell_type": "code",
      "source": [
        "# Cria uma figura com as dimensões de 12 de largura por 8 de altura para acomodar o gráfico.\n",
        "\n",
        "plt.figure(figsize=(12,8))\n",
        "\n",
        "# Cria um gráfico de densidade (kernel density plot) para a média do raio das células de tumores malignos variável 'radius_mean'.\n",
        "# O parâmetro 'label' fornece uma legenda para o gráfico.\n",
        "# O parâmetro 'shade=True' preenche a área sob a curva do gráfico com uma cor.\n",
        "# O parâmetro 'color' define a cor da curva do gráfico vermelho - 'r'.\n",
        "\n",
        "sns.kdeplot(breast_cancerM['radius_mean'], label= 'A média do raio das células do tumor maligno ', shade=True, color='r')\n",
        "\n",
        "# Cria um gráfico de densidade semelhante para a média do raio das células de tumores benignos, com parâmetros semelhantes.\n",
        "# O parâmetro 'color' define a cor da curva do gráfico de tumores benignos em azul - 'b'.\n",
        "\n",
        "sns.kdeplot(breast_cancerB['radius_mean'], label= 'A média do raio das células do tumor benigno', shade=True, color='b')\n",
        "\n",
        "# Define o título do gráfico com estilo e tamanho de fonte personalizados.\n",
        "\n",
        "plt.title('A Média do Raio das Células de Tumor Maligno X Benigno', fontweight='black', size=12, pad=12)"
      ],
      "metadata": {
        "colab": {
          "base_uri": "https://localhost:8080/",
          "height": 953
        },
        "id": "fRA4ONdr9CYQ",
        "outputId": "a419c13e-74be-49e5-9961-44a0aac310f9"
      },
      "execution_count": null,
      "outputs": [
        {
          "output_type": "stream",
          "name": "stderr",
          "text": [
            "<ipython-input-12-b7bd415ca86e>:10: FutureWarning: \n",
            "\n",
            "`shade` is now deprecated in favor of `fill`; setting `fill=True`.\n",
            "This will become an error in seaborn v0.14.0; please update your code.\n",
            "\n",
            "  sns.kdeplot(breast_cancerM['radius_mean'], label= 'A média do raio das células do tumor maligno ', shade=True, color='r')\n",
            "<ipython-input-12-b7bd415ca86e>:15: FutureWarning: \n",
            "\n",
            "`shade` is now deprecated in favor of `fill`; setting `fill=True`.\n",
            "This will become an error in seaborn v0.14.0; please update your code.\n",
            "\n",
            "  sns.kdeplot(breast_cancerB['radius_mean'], label= 'A média do raio das células do tumor benigno', shade=True, color='b')\n"
          ]
        },
        {
          "output_type": "execute_result",
          "data": {
            "text/plain": [
              "Text(0.5, 1.0, 'A Média do Raio das Células de Tumor Maligno X Benigno')"
            ]
          },
          "metadata": {},
          "execution_count": 12
        },
        {
          "output_type": "display_data",
          "data": {
            "text/plain": [
              "<Figure size 1200x800 with 1 Axes>"
            ],
            "image/png": "[encoded data removed]"
          },
          "metadata": {}
        }
      ]
    },
    {
      "cell_type": "code",
      "source": [
        "# Cria uma figura com as dimensões de 12 de largura por 8 de altura para acomodar o gráfico.\n",
        "\n",
        "plt.figure(figsize=(12,8))\n",
        "\n",
        "# Cria um gráfico de densidade (kernel density plot) para a média do raio das células de tumores malignos variável 'texture_mean'.\n",
        "# O parâmetro 'label' fornece uma legenda para o gráfico.\n",
        "# O parâmetro 'shade=True' preenche a área sob a curva do gráfico com uma cor.\n",
        "# O parâmetro 'color' define a cor da curva do gráfico de tumores malignos em vermelho - 'r'.\n",
        "\n",
        "sns.kdeplot(breast_cancerM['texture_mean'], label= 'A média da textura do tumor maligno ', shade=True, color='r')\n",
        "\n",
        "# Cria um gráfico de densidade semelhante para a média do raio das células de tumores benignos, com parâmetros semelhantes.\n",
        "# O parâmetro 'color' define a cor da curva do gráfico de tumores benignos em azul - 'b'.\n",
        "\n",
        "sns.kdeplot(breast_cancerB['texture_mean'], label= 'A média da textura do tumor benigno', shade=True, color='b')\n",
        "\n",
        "# Define o título do gráfico com estilo e tamanho de fonte personalizados.\n",
        "\n",
        "plt.title('A Média da Textura das Células de Tumor Maligno X Benigno', fontweight='black', size=12, pad=12)"
      ],
      "metadata": {
        "colab": {
          "base_uri": "https://localhost:8080/",
          "height": 953
        },
        "id": "miUlK6tW_3d3",
        "outputId": "66e41c14-9d35-4fcf-83da-c95fe68e3e81"
      },
      "execution_count": null,
      "outputs": [
        {
          "output_type": "stream",
          "name": "stderr",
          "text": [
            "<ipython-input-13-f4e153b9ae15>:10: FutureWarning: \n",
            "\n",
            "`shade` is now deprecated in favor of `fill`; setting `fill=True`.\n",
            "This will become an error in seaborn v0.14.0; please update your code.\n",
            "\n",
            "  sns.kdeplot(breast_cancerM['texture_mean'], label= 'A média da textura do tumor maligno ', shade=True, color='r')\n",
            "<ipython-input-13-f4e153b9ae15>:15: FutureWarning: \n",
            "\n",
            "`shade` is now deprecated in favor of `fill`; setting `fill=True`.\n",
            "This will become an error in seaborn v0.14.0; please update your code.\n",
            "\n",
            "  sns.kdeplot(breast_cancerB['texture_mean'], label= 'A média da textura do tumor benigno', shade=True, color='b')\n"
          ]
        },
        {
          "output_type": "execute_result",
          "data": {
            "text/plain": [
              "Text(0.5, 1.0, 'A Média da Textura das Células de Tumor Maligno X Benigno')"
            ]
          },
          "metadata": {},
          "execution_count": 13
        },
        {
          "output_type": "display_data",
          "data": {
            "text/plain": [
              "<Figure size 1200x800 with 1 Axes>"
            ],
            "image/png": "[encoded data removed]"
          },
          "metadata": {}
        }
      ]
    },
    {
      "cell_type": "code",
      "source": [
        "# Cria uma figura com as dimensões de 12 de largura por 8 de altura para acomodar o gráfico.\n",
        "\n",
        "plt.figure(figsize=(12,8))\n",
        "\n",
        "# Cria um gráfico de densidade (kernel density plot) para a média do raio das células de tumores malignos variável 'perimeter_mean'.\n",
        "# O parâmetro 'label' fornece uma legenda para o gráfico.\n",
        "# O parâmetro 'shade=True' preenche a área sob a curva do gráfico com uma cor.\n",
        "# O parâmetro 'color' define a cor da curva do gráfico de tumores malignos em vermelho - 'r'.\n",
        "\n",
        "sns.kdeplot(breast_cancerM['perimeter_mean'], label= 'A média do perímetro do tumor maligno ', shade=True, color='r')\n",
        "\n",
        "# Cria um gráfico de densidade semelhante para a média do raio das células de tumores benignos, com parâmetros semelhantes.\n",
        "# O parâmetro 'color' define a cor da curva do gráfico de tumores benignos em azul - 'b'.\n",
        "\n",
        "sns.kdeplot(breast_cancerB['perimeter_mean'], label= 'A média do perímetro do tumor benigno', shade=True, color='b')\n",
        "\n",
        "# Define o título do gráfico com estilo e tamanho de fonte personalizados.\n",
        "\n",
        "plt.title('A Média do Perímetro das Células de Tumor Maligno X Benigno', fontweight='black', size=12, pad=12)"
      ],
      "metadata": {
        "colab": {
          "base_uri": "https://localhost:8080/",
          "height": 953
        },
        "id": "FRVCB29tas1s",
        "outputId": "264413d0-9e42-4f25-ef9b-3dde4be15363"
      },
      "execution_count": null,
      "outputs": [
        {
          "output_type": "stream",
          "name": "stderr",
          "text": [
            "<ipython-input-14-3392b21bbbe1>:10: FutureWarning: \n",
            "\n",
            "`shade` is now deprecated in favor of `fill`; setting `fill=True`.\n",
            "This will become an error in seaborn v0.14.0; please update your code.\n",
            "\n",
            "  sns.kdeplot(breast_cancerM['perimeter_mean'], label= 'A média do perímetro do tumor maligno ', shade=True, color='r')\n",
            "<ipython-input-14-3392b21bbbe1>:15: FutureWarning: \n",
            "\n",
            "`shade` is now deprecated in favor of `fill`; setting `fill=True`.\n",
            "This will become an error in seaborn v0.14.0; please update your code.\n",
            "\n",
            "  sns.kdeplot(breast_cancerB['perimeter_mean'], label= 'A média do perímetro do tumor benigno', shade=True, color='b')\n"
          ]
        },
        {
          "output_type": "execute_result",
          "data": {
            "text/plain": [
              "Text(0.5, 1.0, 'A Média do Perímetro das Células de Tumor Maligno X Benigno')"
            ]
          },
          "metadata": {},
          "execution_count": 14
        },
        {
          "output_type": "display_data",
          "data": {
            "text/plain": [
              "<Figure size 1200x800 with 1 Axes>"
            ],
            "image/png": "[encoded data removed]"
          },
          "metadata": {}
        }
      ]
    },
    {
      "cell_type": "code",
      "source": [
        "# Cria uma figura com as dimensões de 12 de largura por 8 de altura para acomodar o gráfico.\n",
        "\n",
        "plt.figure(figsize=(12,8))\n",
        "\n",
        "# Cria um gráfico de densidade (kernel density plot) para a média do raio das células de tumores malignos variável 'area_mean'.\n",
        "# O parâmetro 'label' fornece uma legenda para o gráfico.\n",
        "# O parâmetro 'shade=True' preenche a área sob a curva do gráfico com uma cor.\n",
        "# O parâmetro 'color' define a cor da curva do gráfico de tumores malignos em vermelho - 'r'.\n",
        "\n",
        "sns.kdeplot(breast_cancerM['area_mean'], label= 'A média da área do tumor maligno ', shade=True, color='r')\n",
        "\n",
        "# Cria um gráfico de densidade semelhante para a média do raio das células de tumores benignos, com parâmetros semelhantes.\n",
        "# O parâmetro 'color' define a cor da curva do gráfico de tumores benignos em azul - 'b'.\n",
        "\n",
        "sns.kdeplot(breast_cancerB['area_mean'], label= 'A média da área do tumor benigno', shade=True, color='b')\n",
        "\n",
        "# Define o título do gráfico com estilo e tamanho de fonte personalizados.\n",
        "\n",
        "plt.title('A Média da Área das Células de Tumor Maligno X Benigno', fontweight='black', size=12, pad=12)"
      ],
      "metadata": {
        "colab": {
          "base_uri": "https://localhost:8080/",
          "height": 955
        },
        "id": "nGAk0yWtbu-V",
        "outputId": "fad9ce10-6714-4b18-afdb-15f23749b3c3"
      },
      "execution_count": null,
      "outputs": [
        {
          "output_type": "stream",
          "name": "stderr",
          "text": [
            "<ipython-input-15-123b5e3674ee>:10: FutureWarning: \n",
            "\n",
            "`shade` is now deprecated in favor of `fill`; setting `fill=True`.\n",
            "This will become an error in seaborn v0.14.0; please update your code.\n",
            "\n",
            "  sns.kdeplot(breast_cancerM['area_mean'], label= 'A média da área do tumor maligno ', shade=True, color='r')\n",
            "<ipython-input-15-123b5e3674ee>:15: FutureWarning: \n",
            "\n",
            "`shade` is now deprecated in favor of `fill`; setting `fill=True`.\n",
            "This will become an error in seaborn v0.14.0; please update your code.\n",
            "\n",
            "  sns.kdeplot(breast_cancerB['area_mean'], label= 'A média da área do tumor benigno', shade=True, color='b')\n"
          ]
        },
        {
          "output_type": "execute_result",
          "data": {
            "text/plain": [
              "Text(0.5, 1.0, 'A Média da Área das Células de Tumor Maligno X Benigno')"
            ]
          },
          "metadata": {},
          "execution_count": 15
        },
        {
          "output_type": "display_data",
          "data": {
            "text/plain": [
              "<Figure size 1200x800 with 1 Axes>"
            ],
            "image/png": "[encoded data removed]"
          },
          "metadata": {}
        }
      ]
    },
    {
      "cell_type": "code",
      "source": [
        "# Cria uma figura com as dimensões de 12 de largura por 8 de altura para acomodar o gráfico.\n",
        "\n",
        "plt.figure(figsize=(12,8))\n",
        "\n",
        "# Cria um gráfico de densidade (kernel density plot) para a média do raio das células de tumores malignos variável 'smoothness_mean'.\n",
        "# O parâmetro 'label' fornece uma legenda para o gráfico.\n",
        "# O parâmetro 'shade=True' preenche a área sob a curva do gráfico com uma cor.\n",
        "# O parâmetro 'color' define a cor da curva do gráfico de tumores malignos em vermelho - 'r'.\n",
        "\n",
        "sns.kdeplot(breast_cancerM['smoothness_mean'], label= 'A suavidade média do tumor maligno ', shade=True, color='r')\n",
        "\n",
        "# Cria um gráfico de densidade semelhante para a média do raio das células de tumores benignos, com parâmetros semelhantes.\n",
        "# O parâmetro 'color' define a cor da curva do gráfico de tumores benignos em azul - 'b'.\n",
        "\n",
        "sns.kdeplot(breast_cancerB['smoothness_mean'], label= 'A suavidade média do tumor benigno', shade=True, color='b')\n",
        "\n",
        "# Define o título do gráfico com estilo e tamanho de fonte personalizados.\n",
        "\n",
        "plt.title('A Suavidade Média das Células de Tumor Maligno X Benigno', fontweight='black', size=12, pad=12);"
      ],
      "metadata": {
        "colab": {
          "base_uri": "https://localhost:8080/",
          "height": 935
        },
        "id": "mppUf0EXbu1C",
        "outputId": "896cfccb-0603-425b-9871-199502da8f43"
      },
      "execution_count": null,
      "outputs": [
        {
          "output_type": "stream",
          "name": "stderr",
          "text": [
            "<ipython-input-16-baded3673bc7>:10: FutureWarning: \n",
            "\n",
            "`shade` is now deprecated in favor of `fill`; setting `fill=True`.\n",
            "This will become an error in seaborn v0.14.0; please update your code.\n",
            "\n",
            "  sns.kdeplot(breast_cancerM['smoothness_mean'], label= 'A suavidade média do tumor maligno ', shade=True, color='r')\n",
            "<ipython-input-16-baded3673bc7>:15: FutureWarning: \n",
            "\n",
            "`shade` is now deprecated in favor of `fill`; setting `fill=True`.\n",
            "This will become an error in seaborn v0.14.0; please update your code.\n",
            "\n",
            "  sns.kdeplot(breast_cancerB['smoothness_mean'], label= 'A suavidade média do tumor benigno', shade=True, color='b')\n"
          ]
        },
        {
          "output_type": "display_data",
          "data": {
            "text/plain": [
              "<Figure size 1200x800 with 1 Axes>"
            ],
            "image/png": "[encoded data removed]"
          },
          "metadata": {}
        }
      ]
    },
    {
      "cell_type": "code",
      "source": [
        "# Cria uma figura com as dimensões de 12 de largura por 8 de altura para acomodar o gráfico.\n",
        "\n",
        "plt.figure(figsize=(12,8))\n",
        "\n",
        "# Cria um gráfico de densidade (kernel density plot) para a média do raio das células de tumores malignos variável 'compactness_mean'.\n",
        "# O parâmetro 'label' fornece uma legenda para o gráfico.\n",
        "# O parâmetro 'shade=True' preenche a área sob a curva do gráfico com uma cor.\n",
        "# O parâmetro 'color' define a cor da curva do gráfico de tumores malignos em vermelho - 'r'.\n",
        "\n",
        "sns.kdeplot(breast_cancerM['compactness_mean'], label= 'A compactação média do tumor maligno ', shade=True, color='r')\n",
        "\n",
        "# Cria um gráfico de densidade semelhante para a média do raio das células de tumores benignos, com parâmetros semelhantes.\n",
        "# O parâmetro 'color' define a cor da curva do gráfico de tumores benignos em azul - 'b'.\n",
        "\n",
        "sns.kdeplot(breast_cancerB['compactness_mean'], label= 'A compactação média do tumor benigno', shade=True, color='b')\n",
        "\n",
        "# Define o título do gráfico com estilo e tamanho de fonte personalizados.\n",
        "\n",
        "plt.title('A Compactação Média das Células de Tumor Maligno X Benigno', fontweight='black', size=12, pad=12)"
      ],
      "metadata": {
        "colab": {
          "base_uri": "https://localhost:8080/",
          "height": 953
        },
        "id": "5ETNS27obuyR",
        "outputId": "1070db19-2815-4588-dfcc-d69be1e439ba"
      },
      "execution_count": null,
      "outputs": [
        {
          "output_type": "stream",
          "name": "stderr",
          "text": [
            "<ipython-input-17-615f9a8c0bfe>:10: FutureWarning: \n",
            "\n",
            "`shade` is now deprecated in favor of `fill`; setting `fill=True`.\n",
            "This will become an error in seaborn v0.14.0; please update your code.\n",
            "\n",
            "  sns.kdeplot(breast_cancerM['compactness_mean'], label= 'A compactação média do tumor maligno ', shade=True, color='r')\n",
            "<ipython-input-17-615f9a8c0bfe>:15: FutureWarning: \n",
            "\n",
            "`shade` is now deprecated in favor of `fill`; setting `fill=True`.\n",
            "This will become an error in seaborn v0.14.0; please update your code.\n",
            "\n",
            "  sns.kdeplot(breast_cancerB['compactness_mean'], label= 'A compactação média do tumor benigno', shade=True, color='b')\n"
          ]
        },
        {
          "output_type": "execute_result",
          "data": {
            "text/plain": [
              "Text(0.5, 1.0, 'A Compactação Média das Células de Tumor Maligno X Benigno')"
            ]
          },
          "metadata": {},
          "execution_count": 17
        },
        {
          "output_type": "display_data",
          "data": {
            "text/plain": [
              "<Figure size 1200x800 with 1 Axes>"
            ],
            "image/png": "[encoded data removed]"
          },
          "metadata": {}
        }
      ]
    },
    {
      "cell_type": "code",
      "source": [
        "# Cria uma figura com as dimensões de 12 de largura por 8 de altura para acomodar o gráfico.\n",
        "\n",
        "plt.figure(figsize=(12,8))\n",
        "\n",
        "# Cria um gráfico de densidade (kernel density plot) para a média do raio das células de tumores malignos variável 'concavity_mean'.\n",
        "# O parâmetro 'label' fornece uma legenda para o gráfico.\n",
        "# O parâmetro 'shade=True' preenche a área sob a curva do gráfico com uma cor.\n",
        "# O parâmetro 'color' define a cor da curva do gráfico de tumores malignos em vermelho - 'r'.\n",
        "\n",
        "sns.kdeplot(breast_cancerM['concavity_mean'], label= 'A média da concavidade do tumor maligno ', shade=True, color='r')\n",
        "\n",
        "# Cria um gráfico de densidade semelhante para a média do raio das células de tumores benignos, com parâmetros semelhantes.\n",
        "# O parâmetro 'color' define a cor da curva do gráfico de tumores benignos em azul - 'b'.\n",
        "\n",
        "sns.kdeplot(breast_cancerB['concavity_mean'], label= 'A média da concavidade do tumor benigno', shade=True, color='b')\n",
        "\n",
        "# Define o título do gráfico com estilo e tamanho de fonte personalizados.\n",
        "\n",
        "plt.title('A Média da Concavidade das Células de Tumor Maligno X Benigno', fontweight='black', size=12, pad=12)"
      ],
      "metadata": {
        "colab": {
          "base_uri": "https://localhost:8080/",
          "height": 953
        },
        "id": "Guqdgd6kbuvH",
        "outputId": "875cac95-e360-40fa-cbdd-7830c71252c8"
      },
      "execution_count": null,
      "outputs": [
        {
          "output_type": "stream",
          "name": "stderr",
          "text": [
            "<ipython-input-18-c2139bde2c8b>:10: FutureWarning: \n",
            "\n",
            "`shade` is now deprecated in favor of `fill`; setting `fill=True`.\n",
            "This will become an error in seaborn v0.14.0; please update your code.\n",
            "\n",
            "  sns.kdeplot(breast_cancerM['concavity_mean'], label= 'A média da concavidade do tumor maligno ', shade=True, color='r')\n",
            "<ipython-input-18-c2139bde2c8b>:15: FutureWarning: \n",
            "\n",
            "`shade` is now deprecated in favor of `fill`; setting `fill=True`.\n",
            "This will become an error in seaborn v0.14.0; please update your code.\n",
            "\n",
            "  sns.kdeplot(breast_cancerB['concavity_mean'], label= 'A média da concavidade do tumor benigno', shade=True, color='b')\n"
          ]
        },
        {
          "output_type": "execute_result",
          "data": {
            "text/plain": [
              "Text(0.5, 1.0, 'A Média da Concavidade das Células de Tumor Maligno X Benigno')"
            ]
          },
          "metadata": {},
          "execution_count": 18
        },
        {
          "output_type": "display_data",
          "data": {
            "text/plain": [
              "<Figure size 1200x800 with 1 Axes>"
            ],
            "image/png": "[encoded data removed]"
          },
          "metadata": {}
        }
      ]
    },
    {
      "cell_type": "code",
      "source": [
        "# Cria uma figura com as dimensões de 12 de largura por 8 de altura para acomodar o gráfico.\n",
        "\n",
        "plt.figure(figsize=(12,8))\n",
        "\n",
        "# Cria um gráfico de densidade (kernel density plot) para a média do raio das células de tumores malignos variável 'fractal_dimension_mean'.\n",
        "# O parâmetro 'label' fornece uma legenda para o gráfico.\n",
        "# O parâmetro 'shade=True' preenche a área sob a curva do gráfico com uma cor.\n",
        "# O parâmetro 'color' define a cor da curva do gráfico de tumores malignos em vermelho - 'r'.\n",
        "\n",
        "sns.kdeplot(breast_cancerM['fractal_dimension_mean'], label= 'A média da dimensão fractal do tumor maligno ', shade=True, color='r')\n",
        "\n",
        "# Cria um gráfico de densidade semelhante para a média do raio das células de tumores benignos, com parâmetros semelhantes.\n",
        "# O parâmetro 'color' define a cor da curva do gráfico de tumores benignos em azul - 'b'.\n",
        "\n",
        "sns.kdeplot(breast_cancerB['fractal_dimension_mean'], label= 'A média da dimensão fractal do tumor benigno', shade=True, color='b')\n",
        "\n",
        "# Define o título do gráfico com estilo e tamanho de fonte personalizados.\n",
        "\n",
        "plt.title('A Média da Dimensão Fractal das Células de Tumor Maligno X Benigno', fontweight='black', size=12, pad=12)"
      ],
      "metadata": {
        "colab": {
          "base_uri": "https://localhost:8080/",
          "height": 953
        },
        "id": "JAlE2bGAeRSn",
        "outputId": "6ebb7e7c-f29c-4543-eb54-f7294671cf19"
      },
      "execution_count": null,
      "outputs": [
        {
          "output_type": "stream",
          "name": "stderr",
          "text": [
            "<ipython-input-19-bea53f778918>:10: FutureWarning: \n",
            "\n",
            "`shade` is now deprecated in favor of `fill`; setting `fill=True`.\n",
            "This will become an error in seaborn v0.14.0; please update your code.\n",
            "\n",
            "  sns.kdeplot(breast_cancerM['fractal_dimension_mean'], label= 'A média da dimensão fractal do tumor maligno ', shade=True, color='r')\n",
            "<ipython-input-19-bea53f778918>:15: FutureWarning: \n",
            "\n",
            "`shade` is now deprecated in favor of `fill`; setting `fill=True`.\n",
            "This will become an error in seaborn v0.14.0; please update your code.\n",
            "\n",
            "  sns.kdeplot(breast_cancerB['fractal_dimension_mean'], label= 'A média da dimensão fractal do tumor benigno', shade=True, color='b')\n"
          ]
        },
        {
          "output_type": "execute_result",
          "data": {
            "text/plain": [
              "Text(0.5, 1.0, 'A Média da Dimensão Fractal das Células de Tumor Maligno X Benigno')"
            ]
          },
          "metadata": {},
          "execution_count": 19
        },
        {
          "output_type": "display_data",
          "data": {
            "text/plain": [
              "<Figure size 1200x800 with 1 Axes>"
            ],
            "image/png": "[encoded data removed]"
          },
          "metadata": {}
        }
      ]
    },
    {
      "cell_type": "markdown",
      "source": [
        "\n",
        "### **Comparando Tumores Benignos x Malignos:**\n",
        "\n",
        "Os tumores benignos e malignos são dois tipos de crescimentos celulares anormais. Os tumores benignos são crescimentos que não se espalham para outras partes do corpo, enquanto os tumores malignos são crescimentos que podem se espalhar para outras partes do corpo.\n",
        "\n",
        "**Aqui está uma comparação das características de tumores benignos e malignos:**\n",
        "\n",
        "Característica\t       |Tumor benigno |\tTumor maligno\n",
        ":-------------:        | :----------: |:--------------:\n",
        "Radius mean\t           |  Menor\t      |    Maior\n",
        "Texture mean\t         |  Mais suave\t|    Mais rugosa\n",
        "Perimeter mean\t       |  Menor\t      |    Maior\n",
        "Area mean\t             |  Menor\t      |    Maior\n",
        "Smoothness mean\t       |  Maior\t      |    Menor\n",
        "Compactness mean       |\tMaior\t      |    Menor\n",
        "Concavity mean\t       |  Menor\t      |    Maior\n",
        "Concave points mean\t   |  Menor\t      |    Maior\n",
        "Symmetry mean\t         |  Maior\t      |    Menor\n",
        "Fractal dimension mean | \tMenor\t      |    Maior\n",
        "\n",
        "### **Explicação:**\n",
        "\n",
        "Em geral, os tumores malignos têm características mais extremas do que os tumores benignos. Isso significa que os tumores malignos têm um raio, perímetro, área, concavidade e número de pontos côncavos maiores. Eles também têm uma textura mais rugosa, compactação menor e simetria menor.\n",
        "\n",
        "**Aqui está uma explicação mais detalhada de cada característica:**\n",
        "\n",
        "**Radius mean:** O raio é a distância do centro de uma célula ao seu ponto mais distante. Tumores malignos tendem a ter um raio maior do que tumores benignos.\n",
        "\n",
        "**Texture mean:** A textura é uma medida da variação da cor e do brilho de uma célula. Tumores malignos tendem a ter uma textura mais rugosa do que tumores benignos.\n",
        "\n",
        "**Perimeter mean:** O perímetro é a distância ao redor de uma célula. Tumores malignos tendem a ter um perímetro maior do que tumores benignos.\n",
        "\n",
        "**Area mean:** A área é a medida da superfície de uma célula. Tumores malignos tendem a ter uma área maior do que tumores benignos.\n",
        "\n",
        "**Smoothness mean:** A suavidade é uma medida da uniformidade da superfície de uma célula. Tumores malignos tendem a ter uma suavidade menor do que tumores benignos.\n",
        "\n",
        "**Compactness mean:** A compactação é uma medida da densidade de uma célula. Tumores malignos tendem a ter uma compactação menor do que tumores benignos.\n",
        "\n",
        "**Concavity mean:** A concavidade é uma medida da quantidade de curvas em uma célula. Tumores malignos tendem a ter uma concavidade maior do que tumores benignos.\n",
        "\n",
        "**Concave points mean:** O número de pontos côncavos é uma medida da quantidade de pontos em uma célula que são mais profundos do que os pontos ao seu redor. Tumores malignos tendem a ter um número de pontos côncavos maior do que tumores benignos.\n",
        "\n",
        "**Symmetry mean:** A simetria é uma medida de quão simétrica é uma célula. Tumores malignos tendem a ter uma simetria menor do que tumores benignos.\n",
        "\n",
        "**Fractal dimension mean:** O diâmetro fractal é uma medida de quão complexa é uma célula. Tumores malignos tendem a ter um diâmetro fractal maior do que tumores benignos.\n",
        "\n",
        "### Implicações clínicas:\n",
        "\n",
        "As características de tumores benignos e malignos podem ser usadas para ajudar os médicos a diagnosticar câncer. Por exemplo, se um tumor tiver um raio, perímetro, área, concavidade ou número de pontos côncavos maior do que o esperado, o médico pode suspeitar de câncer.\n",
        "\n",
        "Além disso, as características de tumores benignos e malignos podem ser usadas para monitorar o tratamento do câncer. Por exemplo, se um tumor maligno começar a se tornar mais benigno, isso pode ser um sinal de que o tratamento está funcionando.\n",
        "\n",
        "### Conclusão:\n",
        "\n",
        "As características de tumores benignos e malignos podem fornecer informações importantes sobre o tipo de tumor. Essa informação pode ser usada para diagnosticar, tratar e monitorar o câncer."
      ],
      "metadata": {
        "id": "pu-yKZ_Qg0UF"
      }
    },
    {
      "cell_type": "markdown",
      "source": [
        "## Pré - Processamento"
      ],
      "metadata": {
        "id": "YHkB9TXm83Gz"
      }
    },
    {
      "cell_type": "code",
      "source": [
        "# Importa a classe MinMaxScaler do módulo de pré-processamento da biblioteca sklearn.\n",
        "\n",
        "from sklearn.preprocessing import MinMaxScaler"
      ],
      "metadata": {
        "id": "PDDfeMlzzqLo"
      },
      "execution_count": null,
      "outputs": []
    },
    {
      "cell_type": "code",
      "source": [
        "# Cria uma instância do MinMaxScaler, que será usada para redimensionar as características para o intervalo [0, 1].\n",
        "\n",
        "scaler = MinMaxScaler()\n",
        "\n",
        "# Aplica o MinMaxScaler às características X do DataFrame 'breast_cancer', removendo a coluna 'diagnosis'.\n",
        "# Isso redimensiona as características para o intervalo [0, 1] e armazena o resultado em 'X_scaled'.\n",
        "\n",
        "X_scaled = scaler.fit_transform(breast_cancer.drop(columns=['diagnosis']))\n",
        "\n",
        "# A variável y é atribuída à coluna 'diagnosis' no DataFrame 'breast_cancer'.\n",
        "\n",
        "y = breast_cancer['diagnosis']"
      ],
      "metadata": {
        "id": "pc1ObSWs0OF8"
      },
      "execution_count": null,
      "outputs": []
    },
    {
      "cell_type": "code",
      "source": [
        "# X_scaled é uma variável que contém as características após a aplicação do MinMaxScaler.\n",
        "\n",
        "X_scaled"
      ],
      "metadata": {
        "colab": {
          "base_uri": "https://localhost:8080/"
        },
        "id": "r3ErZ56nFaKM",
        "outputId": "a3940b21-25f5-48dd-95ed-1bc9d74ff2ea"
      },
      "execution_count": null,
      "outputs": [
        {
          "output_type": "execute_result",
          "data": {
            "text/plain": [
              "array([[9.14760426e-04, 5.21037437e-01, 2.26580994e-02, ...,\n",
              "        9.12027491e-01, 5.98462448e-01, 4.18863964e-01],\n",
              "       [9.14996350e-04, 6.43144493e-01, 2.72573554e-01, ...,\n",
              "        6.39175258e-01, 2.33589592e-01, 2.22878132e-01],\n",
              "       [9.24954884e-02, 6.01495575e-01, 3.90260399e-01, ...,\n",
              "        8.35051546e-01, 4.03705894e-01, 2.13433032e-01],\n",
              "       ...,\n",
              "       [1.00765069e-03, 4.55251077e-01, 6.21237741e-01, ...,\n",
              "        4.87285223e-01, 1.28720678e-01, 1.51908697e-01],\n",
              "       [1.00796562e-03, 6.44564343e-01, 6.63510315e-01, ...,\n",
              "        9.10652921e-01, 4.97141731e-01, 4.52315361e-01],\n",
              "       [9.22636984e-05, 3.68687586e-02, 5.01521813e-01, ...,\n",
              "        0.00000000e+00, 2.57441356e-01, 1.00682146e-01]])"
            ]
          },
          "metadata": {},
          "execution_count": 22
        }
      ]
    },
    {
      "cell_type": "code",
      "source": [
        "# Importa a função train_test_split do módulo model_selection da biblioteca sklearn.\n",
        "\n",
        "from sklearn.model_selection import train_test_split"
      ],
      "metadata": {
        "id": "OMxenTdtc3Sm"
      },
      "execution_count": null,
      "outputs": []
    },
    {
      "cell_type": "code",
      "source": [
        "# Divide o conjunto de dados em treinamento (X_train, y_train) e validação (X_validad, y_validad).\n",
        "# Usando 25% dos dados para validação e definindo uma semente (random_state=42) para reprodutibilidade.\n",
        "\n",
        "X_train, X_validad, y_train, y_validad = train_test_split(X_scaled, y, test_size=0.25, random_state=42)"
      ],
      "metadata": {
        "id": "zDjDyWNleP2V"
      },
      "execution_count": null,
      "outputs": []
    },
    {
      "cell_type": "markdown",
      "source": [
        "## Regressão Logística"
      ],
      "metadata": {
        "id": "cNpoirKrqNBb"
      }
    },
    {
      "cell_type": "code",
      "source": [
        "# Importa a classe LogisticRegression do módulo de modelos lineares (linear_model) da biblioteca sklearn.\n",
        "\n",
        "from sklearn.linear_model import LogisticRegression"
      ],
      "metadata": {
        "id": "leCHcfcvhloL"
      },
      "execution_count": null,
      "outputs": []
    },
    {
      "cell_type": "code",
      "source": [
        "# Cria uma instância do modelo de regressão logística da classe LogisticRegression.\n",
        "\n",
        "logistic = LogisticRegression()\n",
        "\n",
        "# Treina o modelo de regressão logística usando o conjunto de características de treinamento (X_train) e as variáveis alvo de treinamento (y_train).\n",
        "\n",
        "logistic.fit(X_train, y_train)\n",
        "\n",
        "# Realiza previsões usando o modelo treinado nos dados de validação (X_validad) e armazena as previsões em 'y_pred'.\n",
        "\n",
        "y_pred = logistic.predict(X_validad)"
      ],
      "metadata": {
        "id": "23g_Wssfh51q"
      },
      "execution_count": null,
      "outputs": []
    },
    {
      "cell_type": "code",
      "source": [
        "# Importa diversas métricas de avaliação de desempenho de modelos de machine learning do módulo 'metrics' da biblioteca sklearn.\n",
        "\n",
        "from sklearn.metrics import accuracy_score, recall_score, classification_report, f1_score, confusion_matrix"
      ],
      "metadata": {
        "id": "2IQezbGtjDtm"
      },
      "execution_count": null,
      "outputs": []
    },
    {
      "cell_type": "code",
      "source": [
        "# Calcula a acurácia das previsões do modelo 'y_validad' são os rótulos reais e 'y_pred' são as previsões feitas pelo modelo no conjunto de validação.\n",
        "\n",
        "accuracy_score(y_validad, y_pred)"
      ],
      "metadata": {
        "colab": {
          "base_uri": "https://localhost:8080/"
        },
        "id": "ljTRuLy5jX8O",
        "outputId": "438f43f6-46dd-4b0b-cab0-01a753e3d1ba"
      },
      "execution_count": null,
      "outputs": [
        {
          "output_type": "execute_result",
          "data": {
            "text/plain": [
              "0.986013986013986"
            ]
          },
          "metadata": {},
          "execution_count": 28
        }
      ]
    },
    {
      "cell_type": "code",
      "source": [
        "# Calcula o recall (taxa de verdadeiros positivos) das previsões do modelo.\n",
        "\n",
        "recall_score(y_validad, y_pred)"
      ],
      "metadata": {
        "colab": {
          "base_uri": "https://localhost:8080/"
        },
        "id": "HfS-YLuDQN1C",
        "outputId": "5cfd2ad5-274b-4a47-d109-63f6ebaeade4"
      },
      "execution_count": null,
      "outputs": [
        {
          "output_type": "execute_result",
          "data": {
            "text/plain": [
              "0.9629629629629629"
            ]
          },
          "metadata": {},
          "execution_count": 29
        }
      ]
    },
    {
      "cell_type": "code",
      "source": [
        "# Calcula o valor F1 com média macro (macro-average F1 score) das previsões do modelo.\n",
        "\n",
        "f1_score(y_validad, y_pred, average='macro')"
      ],
      "metadata": {
        "colab": {
          "base_uri": "https://localhost:8080/"
        },
        "id": "EpqePQX0QNlO",
        "outputId": "ecaa3673-fbec-4abc-a29d-ac4ee631c94c"
      },
      "execution_count": null,
      "outputs": [
        {
          "output_type": "execute_result",
          "data": {
            "text/plain": [
              "0.9850104821802934"
            ]
          },
          "metadata": {},
          "execution_count": 30
        }
      ]
    },
    {
      "cell_type": "code",
      "source": [
        "# Gera e imprime um relatório de classificação detalhado, incluindo várias métricas de desempenho do modelo.\n",
        "\n",
        "print(classification_report(y_validad, y_pred))"
      ],
      "metadata": {
        "colab": {
          "base_uri": "https://localhost:8080/"
        },
        "id": "caqdn_WeHRM9",
        "outputId": "4c02251f-36ec-4d41-bfb7-3d952c8cc9e8"
      },
      "execution_count": null,
      "outputs": [
        {
          "output_type": "stream",
          "name": "stdout",
          "text": [
            "              precision    recall  f1-score   support\n",
            "\n",
            "           0       0.98      1.00      0.99        89\n",
            "           1       1.00      0.96      0.98        54\n",
            "\n",
            "    accuracy                           0.99       143\n",
            "   macro avg       0.99      0.98      0.99       143\n",
            "weighted avg       0.99      0.99      0.99       143\n",
            "\n"
          ]
        }
      ]
    },
    {
      "cell_type": "code",
      "source": [
        "# Calcula a matriz de confusão (confusion matrix) que mostra o número de verdadeiros positivos, verdadeiros negativos, falsos positivos e falsos negativos.\n",
        "\n",
        "cm0 = confusion_matrix(y_validad, y_pred)"
      ],
      "metadata": {
        "id": "BLPkWxxmHdF6"
      },
      "execution_count": null,
      "outputs": []
    },
    {
      "cell_type": "code",
      "source": [
        "# Gera um mapa de calor (heatmap) da matriz de confusão 'cm0' com anotações (valores) exibidos nas células.\n",
        "\n",
        "sns.heatmap(cm0, annot=True, fmt='d')"
      ],
      "metadata": {
        "colab": {
          "base_uri": "https://localhost:8080/",
          "height": 447
        },
        "id": "GJHmdAFpH1im",
        "outputId": "9ea0bdc8-8bf0-43f2-f311-e7823b82386f"
      },
      "execution_count": null,
      "outputs": [
        {
          "output_type": "execute_result",
          "data": {
            "text/plain": [
              "<Axes: >"
            ]
          },
          "metadata": {},
          "execution_count": 33
        },
        {
          "output_type": "display_data",
          "data": {
            "text/plain": [
              "<Figure size 640x480 with 2 Axes>"
            ],
            "image/png": "[encoded data removed]"
          },
          "metadata": {}
        }
      ]
    },
    {
      "cell_type": "markdown",
      "source": [
        "## Decision Tree Classifier"
      ],
      "metadata": {
        "id": "R2whjWfyqa3E"
      }
    },
    {
      "cell_type": "code",
      "source": [
        "# Importa a classe DecisionTreeClassifier do módulo de árvores de decisão (tree) da biblioteca sklearn.\n",
        "\n",
        "from sklearn.tree import DecisionTreeClassifier"
      ],
      "metadata": {
        "id": "MIvh7coPilIC"
      },
      "execution_count": null,
      "outputs": []
    },
    {
      "cell_type": "code",
      "source": [
        "# Cria uma instância do modelo de árvore de decisão da classe DecisionTreeClassifier.\n",
        "\n",
        "tree = DecisionTreeClassifier()\n",
        "\n",
        "# Treina o modelo de árvore de decisão usando o conjunto de características de treinamento X_train e as variáveis alvo de treinamento y_train.\n",
        "\n",
        "tree.fit(X_train, y_train)\n",
        "\n",
        "# Realiza previsões usando o modelo de árvore de decisão treinado nos dados de validação X_validad e armazena as previsões em 'y_predDTC'.\n",
        "\n",
        "y_predDTC = tree.predict(X_validad)"
      ],
      "metadata": {
        "id": "JmT2iYt0jDez"
      },
      "execution_count": null,
      "outputs": []
    },
    {
      "cell_type": "code",
      "source": [
        "# Calcula a acurácia das previsões do modelo 'y_validad' são os rótulos reais e 'y_pred' são as previsões feitas pelo modelo no conjunto de validação.\n",
        "\n",
        "accuracy_score(y_validad, y_predDTC)"
      ],
      "metadata": {
        "colab": {
          "base_uri": "https://localhost:8080/"
        },
        "id": "Q024isgskSfP",
        "outputId": "8d0fd8f7-4639-4b03-bfdf-17f201f012d3"
      },
      "execution_count": null,
      "outputs": [
        {
          "output_type": "execute_result",
          "data": {
            "text/plain": [
              "0.951048951048951"
            ]
          },
          "metadata": {},
          "execution_count": 36
        }
      ]
    },
    {
      "cell_type": "code",
      "source": [
        "# Calcula o recall (taxa de verdadeiros positivos) das previsões do modelo.\n",
        "\n",
        "recall_score(y_validad, y_predDTC)"
      ],
      "metadata": {
        "colab": {
          "base_uri": "https://localhost:8080/"
        },
        "id": "1xv54aBO1aLz",
        "outputId": "eb5d70f4-f009-45cf-8b3f-506ae625b05e"
      },
      "execution_count": null,
      "outputs": [
        {
          "output_type": "execute_result",
          "data": {
            "text/plain": [
              "0.9629629629629629"
            ]
          },
          "metadata": {},
          "execution_count": 37
        }
      ]
    },
    {
      "cell_type": "code",
      "source": [
        "# Calcula o valor F1 com média macro (macro-average F1 score) das previsões do modelo.\n",
        "\n",
        "f1_score(y_validad, y_predDTC, average='macro')"
      ],
      "metadata": {
        "colab": {
          "base_uri": "https://localhost:8080/"
        },
        "id": "Jjm-VBM3uMoI",
        "outputId": "5b1900a6-775e-41af-c8d4-e9f6509d32f2"
      },
      "execution_count": null,
      "outputs": [
        {
          "output_type": "execute_result",
          "data": {
            "text/plain": [
              "0.9484684684684683"
            ]
          },
          "metadata": {},
          "execution_count": 38
        }
      ]
    },
    {
      "cell_type": "code",
      "source": [
        "# Gera e imprime um relatório de classificação detalhado, incluindo várias métricas de desempenho do modelo.\n",
        "\n",
        "print(classification_report(y_validad, y_predDTC))"
      ],
      "metadata": {
        "colab": {
          "base_uri": "https://localhost:8080/"
        },
        "id": "-zmm0Nu11aIf",
        "outputId": "9da01134-01cd-46d8-eb44-c5a0542eae92"
      },
      "execution_count": null,
      "outputs": [
        {
          "output_type": "stream",
          "name": "stdout",
          "text": [
            "              precision    recall  f1-score   support\n",
            "\n",
            "           0       0.98      0.94      0.96        89\n",
            "           1       0.91      0.96      0.94        54\n",
            "\n",
            "    accuracy                           0.95       143\n",
            "   macro avg       0.94      0.95      0.95       143\n",
            "weighted avg       0.95      0.95      0.95       143\n",
            "\n"
          ]
        }
      ]
    },
    {
      "cell_type": "code",
      "source": [
        "# Calcula a matriz de confusão (confusion matrix) que mostra o número de verdadeiros positivos, verdadeiros negativos, falsos positivos e falsos negativos.\n",
        "\n",
        "cm1 = confusion_matrix(y_validad, y_predDTC)"
      ],
      "metadata": {
        "id": "x2PAktL01ajF"
      },
      "execution_count": null,
      "outputs": []
    },
    {
      "cell_type": "code",
      "source": [
        "# Gera um mapa de calor (heatmap) da matriz de confusão 'cm1' com anotações (valores) exibidos nas células.\n",
        "\n",
        "sns.heatmap(cm1, annot=True, fmt='d')"
      ],
      "metadata": {
        "colab": {
          "base_uri": "https://localhost:8080/",
          "height": 447
        },
        "id": "hhmaabzK8rLb",
        "outputId": "cc7894a6-83da-4d8c-9ddf-1ed8abe62133"
      },
      "execution_count": null,
      "outputs": [
        {
          "output_type": "execute_result",
          "data": {
            "text/plain": [
              "<Axes: >"
            ]
          },
          "metadata": {},
          "execution_count": 41
        },
        {
          "output_type": "display_data",
          "data": {
            "text/plain": [
              "<Figure size 640x480 with 2 Axes>"
            ],
            "image/png": "[encoded data removed]"
          },
          "metadata": {}
        }
      ]
    },
    {
      "cell_type": "markdown",
      "source": [
        "## Random Forest Classifier"
      ],
      "metadata": {
        "id": "28QcxvU8qvU2"
      }
    },
    {
      "cell_type": "code",
      "source": [
        "# Importa a classe RandomForestClassifier do módulo de ensemble da biblioteca sklearn.\n",
        "\n",
        "from sklearn.ensemble import RandomForestClassifier"
      ],
      "metadata": {
        "id": "7KLn_bQIjkhD"
      },
      "execution_count": null,
      "outputs": []
    },
    {
      "cell_type": "code",
      "source": [
        "# Cria uma instância do modelo de Random Forest da classe RandomForestClassifier.\n",
        "\n",
        "Random = RandomForestClassifier()\n",
        "\n",
        "# Treina o modelo de Random Forest usando o conjunto de características de treinamento X_train e as variáveis alvo de treinamento y_train.\n",
        "\n",
        "Random.fit(X_train, y_train)\n",
        "\n",
        "# Realiza previsões usando o modelo de Random Forest treinado nos dados de validação (X_validad) e armazena as previsões em 'y_predRF'.\n",
        "\n",
        "y_predRF = Random.predict(X_validad)"
      ],
      "metadata": {
        "id": "GkE1SLFxjrqT"
      },
      "execution_count": null,
      "outputs": []
    },
    {
      "cell_type": "code",
      "source": [
        "# Calcula a acurácia das previsões do modelo 'y_validad' são os rótulos reais e 'y_pred' são as previsões feitas pelo modelo no conjunto de validação.\n",
        "\n",
        "accuracy_score(y_validad, y_predRF)"
      ],
      "metadata": {
        "id": "23aOVXO-j9Wb",
        "outputId": "c486c8e9-1293-4a5e-c59f-3229a008d619",
        "colab": {
          "base_uri": "https://localhost:8080/"
        }
      },
      "execution_count": null,
      "outputs": [
        {
          "output_type": "execute_result",
          "data": {
            "text/plain": [
              "0.972027972027972"
            ]
          },
          "metadata": {},
          "execution_count": 44
        }
      ]
    },
    {
      "cell_type": "code",
      "source": [
        "# Calcula o recall (taxa de verdadeiros positivos) das previsões do modelo.\n",
        "\n",
        "recall_score(y_validad, y_predRF)"
      ],
      "metadata": {
        "colab": {
          "base_uri": "https://localhost:8080/"
        },
        "id": "bS11lgbK_B8L",
        "outputId": "f96362bb-585b-4ba4-9931-dce7666ee53c"
      },
      "execution_count": null,
      "outputs": [
        {
          "output_type": "execute_result",
          "data": {
            "text/plain": [
              "0.9444444444444444"
            ]
          },
          "metadata": {},
          "execution_count": 45
        }
      ]
    },
    {
      "cell_type": "code",
      "source": [
        "# Calcula o valor F1 com média macro (macro-average F1 score) das previsões do modelo.\n",
        "\n",
        "f1_score(y_validad, y_pred, average='macro')"
      ],
      "metadata": {
        "colab": {
          "base_uri": "https://localhost:8080/"
        },
        "id": "lTNGTmqA_B5I",
        "outputId": "f27ec417-350d-43d8-b59a-e2ccf401a64e"
      },
      "execution_count": null,
      "outputs": [
        {
          "output_type": "execute_result",
          "data": {
            "text/plain": [
              "0.9850104821802934"
            ]
          },
          "metadata": {},
          "execution_count": 46
        }
      ]
    },
    {
      "cell_type": "code",
      "source": [
        "# Gera e imprime um relatório de classificação detalhado, incluindo várias métricas de desempenho do modelo.\n",
        "\n",
        "print(classification_report(y_validad, y_predRF))"
      ],
      "metadata": {
        "colab": {
          "base_uri": "https://localhost:8080/"
        },
        "id": "bXdCLPE-h1F2",
        "outputId": "1e34aea1-39d7-407c-9eb9-3499cdda0fd2"
      },
      "execution_count": null,
      "outputs": [
        {
          "output_type": "stream",
          "name": "stdout",
          "text": [
            "              precision    recall  f1-score   support\n",
            "\n",
            "           0       0.97      0.99      0.98        89\n",
            "           1       0.98      0.94      0.96        54\n",
            "\n",
            "    accuracy                           0.97       143\n",
            "   macro avg       0.97      0.97      0.97       143\n",
            "weighted avg       0.97      0.97      0.97       143\n",
            "\n"
          ]
        }
      ]
    },
    {
      "cell_type": "code",
      "source": [
        "# Calcula a matriz de confusão (confusion matrix) que mostra o número de verdadeiros positivos, verdadeiros negativos, falsos positivos e falsos negativos.\n",
        "\n",
        "cm2 = confusion_matrix(y_validad, y_predRF)"
      ],
      "metadata": {
        "id": "Yac9fQc3hkAL"
      },
      "execution_count": null,
      "outputs": []
    },
    {
      "cell_type": "code",
      "source": [
        "# Gera um mapa de calor (heatmap) da matriz de confusão 'cm2' com anotações (valores) exibidos nas células.\n",
        "\n",
        "sns.heatmap(cm2, annot=True, fmt='d')"
      ],
      "metadata": {
        "colab": {
          "base_uri": "https://localhost:8080/",
          "height": 447
        },
        "id": "ml1EhbwW2_Zi",
        "outputId": "39e7216e-78f7-459d-d0ae-591d68fa90b0"
      },
      "execution_count": null,
      "outputs": [
        {
          "output_type": "execute_result",
          "data": {
            "text/plain": [
              "<Axes: >"
            ]
          },
          "metadata": {},
          "execution_count": 49
        },
        {
          "output_type": "display_data",
          "data": {
            "text/plain": [
              "<Figure size 640x480 with 2 Axes>"
            ],
            "image/png": "[encoded data removed]"
          },
          "metadata": {}
        }
      ]
    },
    {
      "cell_type": "markdown",
      "source": [
        "## Salvando o modelo"
      ],
      "metadata": {
        "id": "z_oGmH1qlst_"
      }
    },
    {
      "cell_type": "code",
      "source": [
        "# Importa o módulo 'pickle' uma biblioteca que fornece funcionalidades para serialização e desserialização de objetos.\n",
        "# Ele é frequentemente usado para salvar objetos em arquivos ou para transferir objetos entre processos Python.\n",
        "\n",
        "import pickle"
      ],
      "metadata": {
        "id": "_2EQMoeMkFz-"
      },
      "execution_count": null,
      "outputs": []
    },
    {
      "cell_type": "code",
      "source": [
        "# Abre um arquivo chamado 'variaveis_modelo.pkl' no modo de gravação binária 'wb'.\n",
        "# Em seguida, usa o 'pickle' para serializar (salvar) a lista [scaler, logistic] no arquivo 'f'.\n",
        "\n",
        "with open('variaveis_modelo.pkl', 'wb') as f:\n",
        "  pickle.dump([scaler, logistic], f)"
      ],
      "metadata": {
        "id": "sORi3Jwtl176"
      },
      "execution_count": null,
      "outputs": []
    },
    {
      "cell_type": "markdown",
      "source": [
        "## Importando o modelo"
      ],
      "metadata": {
        "id": "yj9AlNjCrJuX"
      }
    },
    {
      "cell_type": "code",
      "source": [
        "# Abre o arquivo 'variaveis_modelo.pkl' no modo de leitura binária ('rb').\n",
        "# usa o 'pickle' para desserializar (carregar) os objetos armazenados no arquivo 'f' nas variáveis 'min_max' e 'model'.\n",
        "\n",
        "with open('variaveis_modelo.pkl', 'rb') as f:\n",
        "  min_max, model = pickle.load(f)"
      ],
      "metadata": {
        "id": "jTS2FlPzFVtI"
      },
      "execution_count": null,
      "outputs": []
    },
    {
      "cell_type": "code",
      "source": [
        "# Exibe os valores das variáveis 'min_max' e 'model'.\n",
        "\n",
        "min_max, model"
      ],
      "metadata": {
        "id": "0ZWjKmpNl147",
        "colab": {
          "base_uri": "https://localhost:8080/"
        },
        "outputId": "208077ed-6fc9-4a35-d684-f22d11248592"
      },
      "execution_count": null,
      "outputs": [
        {
          "output_type": "execute_result",
          "data": {
            "text/plain": [
              "(MinMaxScaler(), LogisticRegression())"
            ]
          },
          "metadata": {},
          "execution_count": 53
        }
      ]
    },
    {
      "cell_type": "code",
      "source": [
        "# Cria um novo DataFrame 'X_breast_cancer' selecionando as linhas de índice 222 até 223 do DataFrame 'breast_cancer'.\n",
        "\n",
        "X_breast_cancer = breast_cancer.iloc[222:224]\n",
        "\n",
        "# Exibe a variável 'X_breast_cancer'.\n",
        "X_breast_cancer"
      ],
      "metadata": {
        "id": "uwMnkmMyl12Z",
        "colab": {
          "base_uri": "https://localhost:8080/",
          "height": 179
        },
        "outputId": "fb7c86fe-55c3-49ee-8321-518386c3773d"
      },
      "execution_count": null,
      "outputs": [
        {
          "output_type": "execute_result",
          "data": {
            "text/plain": [
              "          id  diagnosis  radius_mean  texture_mean  perimeter_mean  area_mean  \\\n",
              "222  8812844          0        10.18         17.53           65.12      313.1   \n",
              "223  8812877          1        15.75         20.25          102.60      761.3   \n",
              "\n",
              "     smoothness_mean  compactness_mean  concavity_mean  concave points_mean  \\\n",
              "222           0.1061           0.08502         0.01768              0.01915   \n",
              "223           0.1025           0.12040         0.11470              0.06462   \n",
              "\n",
              "     ...  radius_worst  texture_worst  perimeter_worst  area_worst  \\\n",
              "222  ...         11.17          22.84            71.94       375.6   \n",
              "223  ...         19.56          30.29           125.90      1088.0   \n",
              "\n",
              "     smoothness_worst  compactness_worst  concavity_worst  \\\n",
              "222            0.1406              0.144          0.06572   \n",
              "223            0.1552              0.448          0.39760   \n",
              "\n",
              "     concave points_worst  symmetry_worst  fractal_dimension_worst  \n",
              "222               0.05575          0.3055                  0.08797  \n",
              "223               0.14790          0.3993                  0.10640  \n",
              "\n",
              "[2 rows x 32 columns]"
            ],
            "text/html": [
              "\n",
              "  <div id=\"df-040f75be-a373-438f-8a15-f5dd66093c46\" class=\"colab-df-container\">\n",
              "    <div>\n",
              "<style scoped>\n",
              "    .dataframe tbody tr th:only-of-type {\n",
              "        vertical-align: middle;\n",
              "    }\n",
              "\n",
              "    .dataframe tbody tr th {\n",
              "        vertical-align: top;\n",
              "    }\n",
              "\n",
              "    .dataframe thead th {\n",
              "        text-align: right;\n",
              "    }\n",
              "</style>\n",
              "<table border=\"1\" class=\"dataframe\">\n",
              "  <thead>\n",
              "    <tr style=\"text-align: right;\">\n",
              "      <th></th>\n",
              "      <th>id</th>\n",
              "      <th>diagnosis</th>\n",
              "      <th>radius_mean</th>\n",
              "      <th>texture_mean</th>\n",
              "      <th>perimeter_mean</th>\n",
              "      <th>area_mean</th>\n",
              "      <th>smoothness_mean</th>\n",
              "      <th>compactness_mean</th>\n",
              "      <th>concavity_mean</th>\n",
              "      <th>concave points_mean</th>\n",
              "      <th>...</th>\n",
              "      <th>radius_worst</th>\n",
              "      <th>texture_worst</th>\n",
              "      <th>perimeter_worst</th>\n",
              "      <th>area_worst</th>\n",
              "      <th>smoothness_worst</th>\n",
              "      <th>compactness_worst</th>\n",
              "      <th>concavity_worst</th>\n",
              "      <th>concave points_worst</th>\n",
              "      <th>symmetry_worst</th>\n",
              "      <th>fractal_dimension_worst</th>\n",
              "    </tr>\n",
              "  </thead>\n",
              "  <tbody>\n",
              "    <tr>\n",
              "      <th>222</th>\n",
              "      <td>8812844</td>\n",
              "      <td>0</td>\n",
              "      <td>10.18</td>\n",
              "      <td>17.53</td>\n",
              "      <td>65.12</td>\n",
              "      <td>313.1</td>\n",
              "      <td>0.1061</td>\n",
              "      <td>0.08502</td>\n",
              "      <td>0.01768</td>\n",
              "      <td>0.01915</td>\n",
              "      <td>...</td>\n",
              "      <td>11.17</td>\n",
              "      <td>22.84</td>\n",
              "      <td>71.94</td>\n",
              "      <td>375.6</td>\n",
              "      <td>0.1406</td>\n",
              "      <td>0.144</td>\n",
              "      <td>0.06572</td>\n",
              "      <td>0.05575</td>\n",
              "      <td>0.3055</td>\n",
              "      <td>0.08797</td>\n",
              "    </tr>\n",
              "    <tr>\n",
              "      <th>223</th>\n",
              "      <td>8812877</td>\n",
              "      <td>1</td>\n",
              "      <td>15.75</td>\n",
              "      <td>20.25</td>\n",
              "      <td>102.60</td>\n",
              "      <td>761.3</td>\n",
              "      <td>0.1025</td>\n",
              "      <td>0.12040</td>\n",
              "      <td>0.11470</td>\n",
              "      <td>0.06462</td>\n",
              "      <td>...</td>\n",
              "      <td>19.56</td>\n",
              "      <td>30.29</td>\n",
              "      <td>125.90</td>\n",
              "      <td>1088.0</td>\n",
              "      <td>0.1552</td>\n",
              "      <td>0.448</td>\n",
              "      <td>0.39760</td>\n",
              "      <td>0.14790</td>\n",
              "      <td>0.3993</td>\n",
              "      <td>0.10640</td>\n",
              "    </tr>\n",
              "  </tbody>\n",
              "</table>\n",
              "<p>2 rows × 32 columns</p>\n",
              "</div>\n",
              "    <div class=\"colab-df-buttons\">\n",
              "\n",
              "  <div class=\"colab-df-container\">\n",
              "    <button class=\"colab-df-convert\" onclick=\"convertToInteractive('df-040f75be-a373-438f-8a15-f5dd66093c46')\"\n",
              "            title=\"Convert this dataframe to an interactive table.\"\n",
              "            style=\"display:none;\">\n",
              "\n",
              "  <svg xmlns=\"http://www.w3.org/2000/svg\" height=\"24px\" viewBox=\"0 -960 960 960\">\n",
              "    <path d=\"M120-120v-720h720v720H120Zm60-500h600v-160H180v160Zm220 220h160v-160H400v160Zm0 220h160v-160H400v160ZM180-400h160v-160H180v160Zm440 0h160v-160H620v160ZM180-180h160v-160H180v160Zm440 0h160v-160H620v160Z\"/>\n",
              "  </svg>\n",
              "    </button>\n",
              "\n",
              "  <style>\n",
              "    .colab-df-container {\n",
              "      display:flex;\n",
              "      gap: 12px;\n",
              "    }\n",
              "\n",
              "    .colab-df-convert {\n",
              "      background-color: #E8F0FE;\n",
              "      border: none;\n",
              "      border-radius: 50%;\n",
              "      cursor: pointer;\n",
              "      display: none;\n",
              "      fill: #1967D2;\n",
              "      height: 32px;\n",
              "      padding: 0 0 0 0;\n",
              "      width: 32px;\n",
              "    }\n",
              "\n",
              "    .colab-df-convert:hover {\n",
              "      background-color: #E2EBFA;\n",
              "      box-shadow: 0px 1px 2px rgba(60, 64, 67, 0.3), 0px 1px 3px 1px rgba(60, 64, 67, 0.15);\n",
              "      fill: #174EA6;\n",
              "    }\n",
              "\n",
              "    .colab-df-buttons div {\n",
              "      margin-bottom: 4px;\n",
              "    }\n",
              "\n",
              "    [theme=dark] .colab-df-convert {\n",
              "      background-color: #3B4455;\n",
              "      fill: #D2E3FC;\n",
              "    }\n",
              "\n",
              "    [theme=dark] .colab-df-convert:hover {\n",
              "      background-color: #434B5C;\n",
              "      box-shadow: 0px 1px 3px 1px rgba(0, 0, 0, 0.15);\n",
              "      filter: drop-shadow(0px 1px 2px rgba(0, 0, 0, 0.3));\n",
              "      fill: #FFFFFF;\n",
              "    }\n",
              "  </style>\n",
              "\n",
              "    <script>\n",
              "      const buttonEl =\n",
              "        document.querySelector('#df-040f75be-a373-438f-8a15-f5dd66093c46 button.colab-df-convert');\n",
              "      buttonEl.style.display =\n",
              "        google.colab.kernel.accessAllowed ? 'block' : 'none';\n",
              "\n",
              "      async function convertToInteractive(key) {\n",
              "        const element = document.querySelector('#df-040f75be-a373-438f-8a15-f5dd66093c46');\n",
              "        const dataTable =\n",
              "          await google.colab.kernel.invokeFunction('convertToInteractive',\n",
              "                                                    [key], {});\n",
              "        if (!dataTable) return;\n",
              "\n",
              "        const docLinkHtml = 'Like what you see? Visit the ' +\n",
              "          '<a target=\"_blank\" href=https://colab.research.google.com/notebooks/data_table.ipynb>data table notebook</a>'\n",
              "          + ' to learn more about interactive tables.';\n",
              "        element.innerHTML = '';\n",
              "        dataTable['output_type'] = 'display_data';\n",
              "        await google.colab.output.renderOutput(dataTable, element);\n",
              "        const docLink = document.createElement('div');\n",
              "        docLink.innerHTML = docLinkHtml;\n",
              "        element.appendChild(docLink);\n",
              "      }\n",
              "    </script>\n",
              "  </div>\n",
              "\n",
              "\n",
              "<div id=\"df-08f0c57f-3ee2-49a0-a379-54db79d17aa4\">\n",
              "  <button class=\"colab-df-quickchart\" onclick=\"quickchart('df-08f0c57f-3ee2-49a0-a379-54db79d17aa4')\"\n",
              "            title=\"Suggest charts.\"\n",
              "            style=\"display:none;\">\n",
              "\n",
              "<svg xmlns=\"http://www.w3.org/2000/svg\" height=\"24px\"viewBox=\"0 0 24 24\"\n",
              "     width=\"24px\">\n",
              "    <g>\n",
              "        <path d=\"M19 3H5c-1.1 0-2 .9-2 2v14c0 1.1.9 2 2 2h14c1.1 0 2-.9 2-2V5c0-1.1-.9-2-2-2zM9 17H7v-7h2v7zm4 0h-2V7h2v10zm4 0h-2v-4h2v4z\"/>\n",
              "    </g>\n",
              "</svg>\n",
              "  </button>\n",
              "\n",
              "<style>\n",
              "  .colab-df-quickchart {\n",
              "      --bg-color: #E8F0FE;\n",
              "      --fill-color: #1967D2;\n",
              "      --hover-bg-color: #E2EBFA;\n",
              "      --hover-fill-color: #174EA6;\n",
              "      --disabled-fill-color: #AAA;\n",
              "      --disabled-bg-color: #DDD;\n",
              "  }\n",
              "\n",
              "  [theme=dark] .colab-df-quickchart {\n",
              "      --bg-color: #3B4455;\n",
              "      --fill-color: #D2E3FC;\n",
              "      --hover-bg-color: #434B5C;\n",
              "      --hover-fill-color: #FFFFFF;\n",
              "      --disabled-bg-color: #3B4455;\n",
              "      --disabled-fill-color: #666;\n",
              "  }\n",
              "\n",
              "  .colab-df-quickchart {\n",
              "    background-color: var(--bg-color);\n",
              "    border: none;\n",
              "    border-radius: 50%;\n",
              "    cursor: pointer;\n",
              "    display: none;\n",
              "    fill: var(--fill-color);\n",
              "    height: 32px;\n",
              "    padding: 0;\n",
              "    width: 32px;\n",
              "  }\n",
              "\n",
              "  .colab-df-quickchart:hover {\n",
              "    background-color: var(--hover-bg-color);\n",
              "    box-shadow: 0 1px 2px rgba(60, 64, 67, 0.3), 0 1px 3px 1px rgba(60, 64, 67, 0.15);\n",
              "    fill: var(--button-hover-fill-color);\n",
              "  }\n",
              "\n",
              "  .colab-df-quickchart-complete:disabled,\n",
              "  .colab-df-quickchart-complete:disabled:hover {\n",
              "    background-color: var(--disabled-bg-color);\n",
              "    fill: var(--disabled-fill-color);\n",
              "    box-shadow: none;\n",
              "  }\n",
              "\n",
              "  .colab-df-spinner {\n",
              "    border: 2px solid var(--fill-color);\n",
              "    border-color: transparent;\n",
              "    border-bottom-color: var(--fill-color);\n",
              "    animation:\n",
              "      spin 1s steps(1) infinite;\n",
              "  }\n",
              "\n",
              "  @keyframes spin {\n",
              "    0% {\n",
              "      border-color: transparent;\n",
              "      border-bottom-color: var(--fill-color);\n",
              "      border-left-color: var(--fill-color);\n",
              "    }\n",
              "    20% {\n",
              "      border-color: transparent;\n",
              "      border-left-color: var(--fill-color);\n",
              "      border-top-color: var(--fill-color);\n",
              "    }\n",
              "    30% {\n",
              "      border-color: transparent;\n",
              "      border-left-color: var(--fill-color);\n",
              "      border-top-color: var(--fill-color);\n",
              "      border-right-color: var(--fill-color);\n",
              "    }\n",
              "    40% {\n",
              "      border-color: transparent;\n",
              "      border-right-color: var(--fill-color);\n",
              "      border-top-color: var(--fill-color);\n",
              "    }\n",
              "    60% {\n",
              "      border-color: transparent;\n",
              "      border-right-color: var(--fill-color);\n",
              "    }\n",
              "    80% {\n",
              "      border-color: transparent;\n",
              "      border-right-color: var(--fill-color);\n",
              "      border-bottom-color: var(--fill-color);\n",
              "    }\n",
              "    90% {\n",
              "      border-color: transparent;\n",
              "      border-bottom-color: var(--fill-color);\n",
              "    }\n",
              "  }\n",
              "</style>\n",
              "\n",
              "  <script>\n",
              "    async function quickchart(key) {\n",
              "      const quickchartButtonEl =\n",
              "        document.querySelector('#' + key + ' button');\n",
              "      quickchartButtonEl.disabled = true;  // To prevent multiple clicks.\n",
              "      quickchartButtonEl.classList.add('colab-df-spinner');\n",
              "      try {\n",
              "        const charts = await google.colab.kernel.invokeFunction(\n",
              "            'suggestCharts', [key], {});\n",
              "      } catch (error) {\n",
              "        console.error('Error during call to suggestCharts:', error);\n",
              "      }\n",
              "      quickchartButtonEl.classList.remove('colab-df-spinner');\n",
              "      quickchartButtonEl.classList.add('colab-df-quickchart-complete');\n",
              "    }\n",
              "    (() => {\n",
              "      let quickchartButtonEl =\n",
              "        document.querySelector('#df-08f0c57f-3ee2-49a0-a379-54db79d17aa4 button');\n",
              "      quickchartButtonEl.style.display =\n",
              "        google.colab.kernel.accessAllowed ? 'block' : 'none';\n",
              "    })();\n",
              "  </script>\n",
              "</div>\n",
              "    </div>\n",
              "  </div>\n"
            ]
          },
          "metadata": {},
          "execution_count": 54
        }
      ]
    },
    {
      "cell_type": "code",
      "source": [
        "# Aplica a transformação de escalonamento (MinMaxScaler) do objeto 'scaler' nas características do DataFrame 'X_breast_cancer'.\n",
        "# as colunas 'diagnosis' são removidas do DataFrame resultante.\n",
        "\n",
        "X_novo = scaler.transform(X_breast_cancer.drop(columns=['diagnosis']))\n",
        "\n",
        "# Exibe a variável X_novo.\n",
        "X_novo"
      ],
      "metadata": {
        "id": "qzsTgBmbl1zu",
        "colab": {
          "base_uri": "https://localhost:8080/"
        },
        "outputId": "bd22951f-f202-438c-8fa6-bb4f768232d9"
      },
      "execution_count": null,
      "outputs": [
        {
          "output_type": "execute_result",
          "data": {
            "text/plain": [
              "array([[0.00966099, 0.15140328, 0.26445722, 0.14739824, 0.07194062,\n",
              "        0.48271193, 0.20133734, 0.04142455, 0.09517893, 0.42929293,\n",
              "        0.40269587, 0.0489589 , 0.18935644, 0.04165292, 0.01540536,\n",
              "        0.21028657, 0.08823264, 0.02155051, 0.14442129, 0.26014521,\n",
              "        0.0990216 , 0.11526147, 0.28837953, 0.10722646, 0.04679512,\n",
              "        0.45849567, 0.11323263, 0.05249201, 0.19158076, 0.29371181,\n",
              "        0.21599108],\n",
              "       [0.00966103, 0.41502201, 0.35644234, 0.406399  , 0.26205726,\n",
              "        0.45021215, 0.30985829, 0.26874414, 0.32117296, 0.44191919,\n",
              "        0.2752738 , 0.08538838, 0.12391708, 0.07006549, 0.04741893,\n",
              "        0.10378353, 0.16138432, 0.06020202, 0.16361053, 0.1384308 ,\n",
              "        0.07725633, 0.41373177, 0.4869403 , 0.37596494, 0.2218836 ,\n",
              "        0.55490986, 0.40817495, 0.31757188, 0.50824742, 0.47861226,\n",
              "        0.33687525]])"
            ]
          },
          "metadata": {},
          "execution_count": 55
        }
      ]
    },
    {
      "cell_type": "code",
      "source": [
        "# Usa o modelo 'model' para fazer previsões com base nas características contidas no DataFrame 'X_novo'.\n",
        "\n",
        "model.predict(X_novo)"
      ],
      "metadata": {
        "colab": {
          "base_uri": "https://localhost:8080/"
        },
        "id": "rl8_U2NpJiUD",
        "outputId": "aa4a2fea-3b57-47f3-dead-2eea4fcbe441"
      },
      "execution_count": null,
      "outputs": [
        {
          "output_type": "execute_result",
          "data": {
            "text/plain": [
              "array([0, 1])"
            ]
          },
          "metadata": {},
          "execution_count": 56
        }
      ]
    },
    {
      "cell_type": "code",
      "source": [
        "# Calcula as probabilidades das classes de saída (ou valores previstos) usando o modelo 'model' nas características contidas no DataFrame 'X_novo'.\n",
        "# Exibe a probabilidade do indivíduo ser classificado na classe 0 (benigno) e na classe 1 (maligno).\n",
        "\n",
        "model.predict_proba(X_novo)"
      ],
      "metadata": {
        "colab": {
          "base_uri": "https://localhost:8080/"
        },
        "id": "s57b1I8GJiR-",
        "outputId": "938e24e2-f3fe-438a-d9bc-18e742c1257e"
      },
      "execution_count": null,
      "outputs": [
        {
          "output_type": "execute_result",
          "data": {
            "text/plain": [
              "array([[0.98220979, 0.01779021],\n",
              "       [0.12979314, 0.87020686]])"
            ]
          },
          "metadata": {},
          "execution_count": 57
        }
      ]
    }
  ]
}