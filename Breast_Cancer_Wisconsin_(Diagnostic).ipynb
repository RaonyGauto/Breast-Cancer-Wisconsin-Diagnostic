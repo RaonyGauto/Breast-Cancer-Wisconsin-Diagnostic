{
  "nbformat": 4,
  "nbformat_minor": 0,
  "metadata": {
    "colab": {
      "provenance": [],
      "authorship_tag": "ABX9TyO5osZkrAEHAw3rIKMglrpz",
      "include_colab_link": true
    },
    "kernelspec": {
      "name": "python3",
      "display_name": "Python 3"
    },
    "language_info": {
      "name": "python"
    }
  },
  "cells": [
    {
      "cell_type": "markdown",
      "metadata": {
        "id": "view-in-github",
        "colab_type": "text"
      },
      "source": [
        "<a href=\"https://colab.research.google.com/github/RaonyGauto/Breast-Cancer-Wisconsin-Diagnostic/blob/main/Breast_Cancer_Wisconsin_(Diagnostic).ipynb\" target=\"_parent\"><img src=\"https://colab.research.google.com/assets/colab-badge.svg\" alt=\"Open In Colab\"/></a>"
      ]
    },
    {
      "cell_type": "markdown",
      "source": [
        "# **Projeto de Previsão de Câncer de Mama**"
      ],
      "metadata": {
        "id": "z0XZjU11n_F1"
      }
    },
    {
      "cell_type": "markdown",
      "source": [
        ">**Contexto:**\n",
        "\n",
        " O câncer de mama é uma doença que se origina nas células da mama, mais frequentemente nas glândulas mamárias que produzem leite (lobos) ou nos ductos que transportam o leite dos lobos para o mamilo. É uma das formas mais comuns de câncer entre as mulheres, embora homens também possam desenvolvê-lo. A detecção precoce é fundamental para o tratamento bem-sucedido, e o exame de biópsia é uma das maneiras de diagnosticar o câncer de mama. E a partir de características das células pode ser determinado se esse tumor é benigno ou maligno.\n",
        "\n",
        " As características são calculadas a partir de uma imagem digitalizada de um aspirado com agulha fina (PAAF) de uma massa mamária. Eles descrevem características dos núcleos celulares presentes na imagem.\n",
        "\n",
        "---\n",
        "\n",
        ">**Desafio:**\n",
        "\n",
        "Após biopsia o desafio é analisar as variáveis para achar padrôes e fatores que indiquem a classificação do tumor, alem de treinar um modelo de machine learning capaz de identificar a partir de características do tumor se ele é benigno ou maligno.\n",
        "\n",
        "\n",
        "---\n",
        "\n",
        ">**Objetivo:**\n",
        "\n",
        "O objetivo do projeto é desenvolver um modelo de classificação que tenha uma alta precisão acertiva para servir como uma ferramenta de apoio para profissionais da saúde tomarem as decisões mais corretas possíveis após coletar e analisar o material utilizado no exame de biópsa.\n",
        "\n",
        "\n",
        "\n",
        "\n",
        "\n",
        "\n",
        "\n",
        "\n",
        "\n",
        "\n",
        "\n",
        "\n",
        "\n",
        "\n",
        "\n",
        "\n",
        "\n",
        "\n",
        "\n",
        "\n",
        "\n",
        "\n",
        "\n",
        "\n",
        "\n",
        "\n",
        "\n",
        "\n",
        "\n",
        "\n",
        "\n",
        "\n",
        "\n",
        "\n",
        "\n",
        "\n",
        "\n",
        "\n",
        "\n",
        "\n",
        "\n",
        "\n",
        "\n",
        "\n",
        "\n",
        "\n",
        "\n",
        "\n",
        "\n",
        "\n",
        "\n",
        "\n",
        "\n",
        "\n",
        "\n",
        "\n",
        "\n",
        "\n",
        "\n",
        "\n",
        "\n",
        "\n",
        "\n",
        "\n",
        "\n",
        "\n",
        "\n",
        "\n",
        "\n",
        "\n",
        "\n",
        "\n",
        "\n",
        "\n",
        "\n",
        "\n",
        "\n",
        "\n",
        "\n",
        "\n",
        "\n",
        "\n",
        "\n",
        "\n",
        "\n",
        "\n",
        "\n",
        "\n",
        "\n",
        "\n",
        "\n",
        "\n",
        "\n",
        "\n",
        "\n",
        "\n",
        "\n",
        "\n",
        "\n",
        "\n",
        "\n",
        "\n",
        "\n",
        "\n",
        "\n",
        "\n",
        "\n",
        "\n",
        "\n"
      ],
      "metadata": {
        "id": "nX1-Y57jFnlA"
      }
    },
    {
      "cell_type": "markdown",
      "source": [
        "###Dataset:\n",
        "\n",
        "O projeto foi desenvolvido a partir do conjunto de dados Breast Cancer Wisconsin (Diagnostic) Data Set que está no site Kaggle. Para mais informações sobre o conjunto de dados e ou arquivo do banco de dados link abaixo.\n",
        "\n",
        "Link: https://www.kaggle.com/datasets/uciml/breast-cancer-wisconsin-data\n",
        "\n"
      ],
      "metadata": {
        "id": "u21Az6YcLq5V"
      }
    },
    {
      "cell_type": "markdown",
      "source": [
        "---\n",
        "## Variáveis do dataset:\n",
        "\n",
        "---\n",
        "id: O identificador único da biópsia.\n",
        "\n",
        "diagnosis: O diagnóstico da biópsia, um valor binário que indica se o tumor é maligno (M) ou benigno (B).\n",
        "\n",
        "radius_mean: A média do raio das células cancerosas, em mícrons.\n",
        "\n",
        "texture_mean: A média da textura das células cancerosas.\n",
        "\n",
        "perimeter_mean: A média do perímetro das células cancerosas, em mícrons.\n",
        "\n",
        "area_mean: A média da área das células cancerosas, em mícrons quadrados.\n",
        "\n",
        "smoothness_mean: A média da suavidade das células cancerosas.\n",
        "\n",
        "compactness_mean: A média da compactação das células cancerosas.\n",
        "\n",
        "concavity_mean: A média da concavidade das células cancerosas.\n",
        "\n",
        "concave points_mean: A média do número de pontos côncavos nas células\n",
        "cancerosas.\n",
        "\n",
        "symmetry_mean: A média da simetria das células cancerosas.\n",
        "\n",
        "fractal_dimension_mean: A média da dimensão fractal das células cancerosas.\n",
        "\n",
        "radius_se: O erro padrão do raio das células cancerosas, em mícrons.\n",
        "\n",
        "texture_se: O erro padrão da textura das células cancerosas.\n",
        "\n",
        "perimeter_se: O erro padrão do perímetro das células cancerosas, em mícrons.\n",
        "\n",
        "area_se: O erro padrão da área das células cancerosas, em mícrons quadrados.\n",
        "\n",
        "smoothness_se: O erro padrão da suavidade das células cancerosas.\n",
        "\n",
        "compactness_se: O erro padrão da compactação das células cancerosas.\n",
        "\n",
        "concavity_se: O erro padrão da concavidade das células cancerosas.\n",
        "\n",
        "concave points_se: O erro padrão do número de pontos côncavos nas células cancerosas.\n",
        "\n",
        "symmetry_se: O erro padrão da simetria das células cancerosas.\n",
        "\n",
        "fractal_dimension_se: O erro padrão da dimensão fractal das células cancerosas.\n",
        "\n",
        "radius_worst: O pior raio das células cancerosas, em mícrons.\n",
        "\n",
        "texture_worst: O pior valor de textura das células cancerosas.\n",
        "\n",
        "perimeter_worst: O pior valor de perímetro das células cancerosas, em mícrons.\n",
        "\n",
        "area_worst: O pior valor de área das células cancerosas, em mícrons quadrados.\n",
        "\n",
        "smoothness_worst: O pior valor de suavidade das células cancerosas.\n",
        "\n",
        "compactness_worst: O pior valor de compactação das células cancerosas.\n",
        "\n",
        "concavity_worst: O pior valor de concavidade das células cancerosas.\n",
        "\n",
        "concave points_worst: O pior valor do número de pontos côncavos nas células cancerosas.\n",
        "\n",
        "symmetry_worst: O pior valor de simetria das células cancerosas.\n",
        "\n",
        "fractal_dimension_worst: O pior valor da dimensão fractal das células cancerosas.\n",
        "\n",
        "---"
      ],
      "metadata": {
        "id": "eMzHPzy9dBjN"
      }
    },
    {
      "cell_type": "markdown",
      "source": [
        "# Importando bibliotecas"
      ],
      "metadata": {
        "id": "2X6GHwLzqC6I"
      }
    },
    {
      "cell_type": "code",
      "execution_count": null,
      "metadata": {
        "id": "71hJNBR5rGyY"
      },
      "outputs": [],
      "source": [
        "import pandas            as pd  # Importa a biblioteca pandas e a apelida como 'pd' para trabalhar com estruturas de dados tabulares.\n",
        "import numpy             as np  # Importa a biblioteca numpy e a apelida como 'np' para cálculos numéricos.\n",
        "import matplotlib.pyplot as plt # Importa a biblioteca matplotlib para criar gráficos e a apelida como 'plt'.\n",
        "import seaborn           as sns # Importa a biblioteca seaborn para melhorar a visualização de dados e a apelida como 'sns'.\n"
      ]
    },
    {
      "cell_type": "code",
      "source": [
        "# Lê os dados do arquivo CSV localizado em '/content/data.csv' e armazena-os no DataFrame 'breast_cancer'.\n",
        "breast_cancer = pd.read_csv('/content/data.csv')"
      ],
      "metadata": {
        "id": "eHiRINAdrJe2"
      },
      "execution_count": null,
      "outputs": []
    },
    {
      "cell_type": "markdown",
      "source": [
        "# Análise Exploratória dos Dados"
      ],
      "metadata": {
        "id": "-d7eCkNbqJZH"
      }
    },
    {
      "cell_type": "code",
      "source": [
        "# Exibe as 5 primeiras linhas do DataFrame 'breast_cancer' para vizualizar o conjunto de dados.\n",
        "\n",
        "breast_cancer.head()"
      ],
      "metadata": {
        "id": "yr6QIEGQr4JR"
      },
      "execution_count": null,
      "outputs": []
    },
    {
      "cell_type": "code",
      "source": [
        "# Retorna a forma (número de linhas e colunas) do DataFrame 'breast_cancer'.\n",
        "\n",
        "breast_cancer.shape"
      ],
      "metadata": {
        "id": "nFnQVQY4r_Yw"
      },
      "execution_count": null,
      "outputs": []
    },
    {
      "cell_type": "code",
      "source": [
        "# O método info() fornece informações resumidas sobre o DataFrame 'breast_cancer'.\n",
        "\n",
        "breast_cancer.info()"
      ],
      "metadata": {
        "id": "7B0q7wabIoPo"
      },
      "execution_count": null,
      "outputs": []
    },
    {
      "cell_type": "code",
      "source": [
        "# Remove a coluna chamada 'Unnamed: 32' do DataFrame 'breast_cancer'.\n",
        "\n",
        "breast_cancer = breast_cancer.drop(columns=['Unnamed: 32'])"
      ],
      "metadata": {
        "id": "UYkz-Y7veCzu"
      },
      "execution_count": null,
      "outputs": []
    },
    {
      "cell_type": "code",
      "source": [
        "# Cria um novo DataFrame chamado 'breast_cancerM' que contém as amostras de tumores malignos (diagnosis == 'M') do DataFrame original 'breast_cancer'.\n",
        "\n",
        "breast_cancerM = breast_cancer[breast_cancer['diagnosis'] == 'M']\n",
        "\n",
        "# Cria um novo DataFrame chamado 'breast_cancerB' que contém as amostras de tumores benignos (diagnosis == 'B') do DataFrame original 'breast_cancer'.\n",
        "\n",
        "breast_cancerB = breast_cancer[breast_cancer['diagnosis'] == 'B']"
      ],
      "metadata": {
        "id": "44lb3ethe1ds"
      },
      "execution_count": null,
      "outputs": []
    },
    {
      "cell_type": "code",
      "source": [
        "# Gera estatísticas descritivas para o DataFrame 'breast_cancerM', que contém amostras de tumores malignos.\n",
        "\n",
        "breast_cancerM.describe()"
      ],
      "metadata": {
        "id": "v91QcgTld9dP"
      },
      "execution_count": null,
      "outputs": []
    },
    {
      "cell_type": "code",
      "source": [
        "# Gera estatísticas descritivas para o DataFrame 'breast_cancerB', que contém amostras de tumores benignos.\n",
        "\n",
        "breast_cancerB.describe()"
      ],
      "metadata": {
        "id": "ebUfDzWlfteg"
      },
      "execution_count": null,
      "outputs": []
    },
    {
      "cell_type": "code",
      "source": [
        "# Atribui valores numéricos às amostras da coluna 'diagnosis' no DataFrame 'breast_cancer', onde 'M' é mapeado para 1 e 'B' é mapeado para 0.\n",
        "\n",
        "breast_cancer['diagnosis'] = breast_cancer['diagnosis'].apply(lambda x: 1 if x == 'M' else 0)"
      ],
      "metadata": {
        "id": "7JwHKnVK1L_E"
      },
      "execution_count": null,
      "outputs": []
    },
    {
      "cell_type": "markdown",
      "source": [
        "# Visualização dos Dados"
      ],
      "metadata": {
        "id": "PYw_Tt9nqjIP"
      }
    },
    {
      "cell_type": "code",
      "source": [
        "# Cria uma figura com as dimensões de 12 de largura por 8 de altura para acomodar o gráfico.\n",
        "\n",
        "plt.figure(figsize=(12,8))\n",
        "\n",
        "# Cria um gráfico de densidade (kernel density plot) para a média do raio das células de tumores malignos variável 'radius_mean'.\n",
        "# O parâmetro 'label' fornece uma legenda para o gráfico.\n",
        "# O parâmetro 'shade=True' preenche a área sob a curva do gráfico com uma cor.\n",
        "# O parâmetro 'color' define a cor da curva do gráfico vermelho - 'r'.\n",
        "\n",
        "sns.kdeplot(breast_cancerM['radius_mean'], label= 'A média do raio das células do tumor maligno ', shade=True, color='r')\n",
        "\n",
        "# Cria um gráfico de densidade semelhante para a média do raio das células de tumores benignos, com parâmetros semelhantes.\n",
        "# O parâmetro 'color' define a cor da curva do gráfico de tumores benignos em azul - 'b'.\n",
        "\n",
        "sns.kdeplot(breast_cancerB['radius_mean'], label= 'A média do raio das células do tumor benigno', shade=True, color='b')\n",
        "\n",
        "# Define o título do gráfico com estilo e tamanho de fonte personalizados.\n",
        "\n",
        "plt.title('A Média do Raio das Células de Tumor Maligno X Benigno', fontweight='black', size=12, pad=12)"
      ],
      "metadata": {
        "id": "fRA4ONdr9CYQ"
      },
      "execution_count": null,
      "outputs": []
    },
    {
      "cell_type": "code",
      "source": [
        "# Cria uma figura com as dimensões de 12 de largura por 8 de altura para acomodar o gráfico.\n",
        "\n",
        "plt.figure(figsize=(12,8))\n",
        "\n",
        "# Cria um gráfico de densidade (kernel density plot) para a média do raio das células de tumores malignos variável 'texture_mean'.\n",
        "# O parâmetro 'label' fornece uma legenda para o gráfico.\n",
        "# O parâmetro 'shade=True' preenche a área sob a curva do gráfico com uma cor.\n",
        "# O parâmetro 'color' define a cor da curva do gráfico de tumores malignos em vermelho - 'r'.\n",
        "\n",
        "sns.kdeplot(breast_cancerM['texture_mean'], label= 'A média da textura do tumor maligno ', shade=True, color='r')\n",
        "\n",
        "# Cria um gráfico de densidade semelhante para a média do raio das células de tumores benignos, com parâmetros semelhantes.\n",
        "# O parâmetro 'color' define a cor da curva do gráfico de tumores benignos em azul - 'b'.\n",
        "\n",
        "sns.kdeplot(breast_cancerB['texture_mean'], label= 'A média da textura do tumor benigno', shade=True, color='b')\n",
        "\n",
        "# Define o título do gráfico com estilo e tamanho de fonte personalizados.\n",
        "\n",
        "plt.title('A Média da Textura das Células de Tumor Maligno X Benigno', fontweight='black', size=12, pad=12)"
      ],
      "metadata": {
        "id": "miUlK6tW_3d3"
      },
      "execution_count": null,
      "outputs": []
    },
    {
      "cell_type": "code",
      "source": [
        "# Cria uma figura com as dimensões de 12 de largura por 8 de altura para acomodar o gráfico.\n",
        "\n",
        "plt.figure(figsize=(12,8))\n",
        "\n",
        "# Cria um gráfico de densidade (kernel density plot) para a média do raio das células de tumores malignos variável 'perimeter_mean'.\n",
        "# O parâmetro 'label' fornece uma legenda para o gráfico.\n",
        "# O parâmetro 'shade=True' preenche a área sob a curva do gráfico com uma cor.\n",
        "# O parâmetro 'color' define a cor da curva do gráfico de tumores malignos em vermelho - 'r'.\n",
        "\n",
        "sns.kdeplot(breast_cancerM['perimeter_mean'], label= 'A média do perímetro do tumor maligno ', shade=True, color='r')\n",
        "\n",
        "# Cria um gráfico de densidade semelhante para a média do raio das células de tumores benignos, com parâmetros semelhantes.\n",
        "# O parâmetro 'color' define a cor da curva do gráfico de tumores benignos em azul - 'b'.\n",
        "\n",
        "sns.kdeplot(breast_cancerB['perimeter_mean'], label= 'A média do perímetro do tumor benigno', shade=True, color='b')\n",
        "\n",
        "# Define o título do gráfico com estilo e tamanho de fonte personalizados.\n",
        "\n",
        "plt.title('A Média do Perímetro das Células de Tumor Maligno X Benigno', fontweight='black', size=12, pad=12)"
      ],
      "metadata": {
        "id": "FRVCB29tas1s"
      },
      "execution_count": null,
      "outputs": []
    },
    {
      "cell_type": "code",
      "source": [
        "# Cria uma figura com as dimensões de 12 de largura por 8 de altura para acomodar o gráfico.\n",
        "\n",
        "plt.figure(figsize=(12,8))\n",
        "\n",
        "# Cria um gráfico de densidade (kernel density plot) para a média do raio das células de tumores malignos variável 'area_mean'.\n",
        "# O parâmetro 'label' fornece uma legenda para o gráfico.\n",
        "# O parâmetro 'shade=True' preenche a área sob a curva do gráfico com uma cor.\n",
        "# O parâmetro 'color' define a cor da curva do gráfico de tumores malignos em vermelho - 'r'.\n",
        "\n",
        "sns.kdeplot(breast_cancerM['area_mean'], label= 'A média da área do tumor maligno ', shade=True, color='r')\n",
        "\n",
        "# Cria um gráfico de densidade semelhante para a média do raio das células de tumores benignos, com parâmetros semelhantes.\n",
        "# O parâmetro 'color' define a cor da curva do gráfico de tumores benignos em azul - 'b'.\n",
        "\n",
        "sns.kdeplot(breast_cancerB['area_mean'], label= 'A média da área do tumor benigno', shade=True, color='b')\n",
        "\n",
        "# Define o título do gráfico com estilo e tamanho de fonte personalizados.\n",
        "\n",
        "plt.title('A Média da Área das Células de Tumor Maligno X Benigno', fontweight='black', size=12, pad=12)"
      ],
      "metadata": {
        "id": "nGAk0yWtbu-V"
      },
      "execution_count": null,
      "outputs": []
    },
    {
      "cell_type": "code",
      "source": [
        "# Cria uma figura com as dimensões de 12 de largura por 8 de altura para acomodar o gráfico.\n",
        "\n",
        "plt.figure(figsize=(12,8))\n",
        "\n",
        "# Cria um gráfico de densidade (kernel density plot) para a média do raio das células de tumores malignos variável 'smoothness_mean'.\n",
        "# O parâmetro 'label' fornece uma legenda para o gráfico.\n",
        "# O parâmetro 'shade=True' preenche a área sob a curva do gráfico com uma cor.\n",
        "# O parâmetro 'color' define a cor da curva do gráfico de tumores malignos em vermelho - 'r'.\n",
        "\n",
        "sns.kdeplot(breast_cancerM['smoothness_mean'], label= 'A suavidade média do tumor maligno ', shade=True, color='r')\n",
        "\n",
        "# Cria um gráfico de densidade semelhante para a média do raio das células de tumores benignos, com parâmetros semelhantes.\n",
        "# O parâmetro 'color' define a cor da curva do gráfico de tumores benignos em azul - 'b'.\n",
        "\n",
        "sns.kdeplot(breast_cancerB['smoothness_mean'], label= 'A suavidade média do tumor benigno', shade=True, color='b')\n",
        "\n",
        "# Define o título do gráfico com estilo e tamanho de fonte personalizados.\n",
        "\n",
        "plt.title('A Suavidade Média das Células de Tumor Maligno X Benigno', fontweight='black', size=12, pad=12);"
      ],
      "metadata": {
        "id": "mppUf0EXbu1C"
      },
      "execution_count": null,
      "outputs": []
    },
    {
      "cell_type": "code",
      "source": [
        "# Cria uma figura com as dimensões de 12 de largura por 8 de altura para acomodar o gráfico.\n",
        "\n",
        "plt.figure(figsize=(12,8))\n",
        "\n",
        "# Cria um gráfico de densidade (kernel density plot) para a média do raio das células de tumores malignos variável 'compactness_mean'.\n",
        "# O parâmetro 'label' fornece uma legenda para o gráfico.\n",
        "# O parâmetro 'shade=True' preenche a área sob a curva do gráfico com uma cor.\n",
        "# O parâmetro 'color' define a cor da curva do gráfico de tumores malignos em vermelho - 'r'.\n",
        "\n",
        "sns.kdeplot(breast_cancerM['compactness_mean'], label= 'A compactação média do tumor maligno ', shade=True, color='r')\n",
        "\n",
        "# Cria um gráfico de densidade semelhante para a média do raio das células de tumores benignos, com parâmetros semelhantes.\n",
        "# O parâmetro 'color' define a cor da curva do gráfico de tumores benignos em azul - 'b'.\n",
        "\n",
        "sns.kdeplot(breast_cancerB['compactness_mean'], label= 'A compactação média do tumor benigno', shade=True, color='b')\n",
        "\n",
        "# Define o título do gráfico com estilo e tamanho de fonte personalizados.\n",
        "\n",
        "plt.title('A Compactação Média das Células de Tumor Maligno X Benigno', fontweight='black', size=12, pad=12)"
      ],
      "metadata": {
        "id": "5ETNS27obuyR"
      },
      "execution_count": null,
      "outputs": []
    },
    {
      "cell_type": "code",
      "source": [
        "# Cria uma figura com as dimensões de 12 de largura por 8 de altura para acomodar o gráfico.\n",
        "\n",
        "plt.figure(figsize=(12,8))\n",
        "\n",
        "# Cria um gráfico de densidade (kernel density plot) para a média do raio das células de tumores malignos variável 'concavity_mean'.\n",
        "# O parâmetro 'label' fornece uma legenda para o gráfico.\n",
        "# O parâmetro 'shade=True' preenche a área sob a curva do gráfico com uma cor.\n",
        "# O parâmetro 'color' define a cor da curva do gráfico de tumores malignos em vermelho - 'r'.\n",
        "\n",
        "sns.kdeplot(breast_cancerM['concavity_mean'], label= 'A média da concavidade do tumor maligno ', shade=True, color='r')\n",
        "\n",
        "# Cria um gráfico de densidade semelhante para a média do raio das células de tumores benignos, com parâmetros semelhantes.\n",
        "# O parâmetro 'color' define a cor da curva do gráfico de tumores benignos em azul - 'b'.\n",
        "\n",
        "sns.kdeplot(breast_cancerB['concavity_mean'], label= 'A média da concavidade do tumor benigno', shade=True, color='b')\n",
        "\n",
        "# Define o título do gráfico com estilo e tamanho de fonte personalizados.\n",
        "\n",
        "plt.title('A Média da Concavidade das Células de Tumor Maligno X Benigno', fontweight='black', size=12, pad=12)"
      ],
      "metadata": {
        "id": "Guqdgd6kbuvH"
      },
      "execution_count": null,
      "outputs": []
    },
    {
      "cell_type": "code",
      "source": [
        "# Cria uma figura com as dimensões de 12 de largura por 8 de altura para acomodar o gráfico.\n",
        "\n",
        "plt.figure(figsize=(12,8))\n",
        "\n",
        "# Cria um gráfico de densidade (kernel density plot) para a média do raio das células de tumores malignos variável 'fractal_dimension_mean'.\n",
        "# O parâmetro 'label' fornece uma legenda para o gráfico.\n",
        "# O parâmetro 'shade=True' preenche a área sob a curva do gráfico com uma cor.\n",
        "# O parâmetro 'color' define a cor da curva do gráfico de tumores malignos em vermelho - 'r'.\n",
        "\n",
        "sns.kdeplot(breast_cancerM['fractal_dimension_mean'], label= 'A média da dimensão fractal do tumor maligno ', shade=True, color='r')\n",
        "\n",
        "# Cria um gráfico de densidade semelhante para a média do raio das células de tumores benignos, com parâmetros semelhantes.\n",
        "# O parâmetro 'color' define a cor da curva do gráfico de tumores benignos em azul - 'b'.\n",
        "\n",
        "sns.kdeplot(breast_cancerB['fractal_dimension_mean'], label= 'A média da dimensão fractal do tumor benigno', shade=True, color='b')\n",
        "\n",
        "# Define o título do gráfico com estilo e tamanho de fonte personalizados.\n",
        "\n",
        "plt.title('A Média da Dimensão Fractal das Células de Tumor Maligno X Benigno', fontweight='black', size=12, pad=12)"
      ],
      "metadata": {
        "id": "JAlE2bGAeRSn"
      },
      "execution_count": null,
      "outputs": []
    },
    {
      "cell_type": "markdown",
      "source": [
        "\n",
        "### **Comparando Tumores Benignos x Malignos:**\n",
        "\n",
        "Os tumores benignos e malignos são dois tipos de crescimentos celulares anormais. Os tumores benignos são crescimentos que não se espalham para outras partes do corpo, enquanto os tumores malignos são crescimentos que podem se espalhar para outras partes do corpo.\n",
        "\n",
        "**Aqui está uma comparação das características de tumores benignos e malignos:**\n",
        "\n",
        "Característica\t       |Tumor benigno |\tTumor maligno\n",
        ":-------------:        | :----------: |:--------------:\n",
        "Radius mean\t           |  Menor\t      |    Maior\n",
        "Texture mean\t         |  Mais suave\t|    Mais rugosa\n",
        "Perimeter mean\t       |  Menor\t      |    Maior\n",
        "Area mean\t             |  Menor\t      |    Maior\n",
        "Smoothness mean\t       |  Maior\t      |    Menor\n",
        "Compactness mean       |\tMaior\t      |    Menor\n",
        "Concavity mean\t       |  Menor\t      |    Maior\n",
        "Concave points mean\t   |  Menor\t      |    Maior\n",
        "Symmetry mean\t         |  Maior\t      |    Menor\n",
        "Fractal dimension mean | \tMenor\t      |    Maior\n",
        "\n",
        "### **Explicação:**\n",
        "\n",
        "Em geral, os tumores malignos têm características mais extremas do que os tumores benignos. Isso significa que os tumores malignos têm um raio, perímetro, área, concavidade e número de pontos côncavos maiores. Eles também têm uma textura mais rugosa, compactação menor e simetria menor.\n",
        "\n",
        "**Aqui está uma explicação mais detalhada de cada característica:**\n",
        "\n",
        "**Radius mean:** O raio é a distância do centro de uma célula ao seu ponto mais distante. Tumores malignos tendem a ter um raio maior do que tumores benignos.\n",
        "\n",
        "**Texture mean:** A textura é uma medida da variação da cor e do brilho de uma célula. Tumores malignos tendem a ter uma textura mais rugosa do que tumores benignos.\n",
        "\n",
        "**Perimeter mean:** O perímetro é a distância ao redor de uma célula. Tumores malignos tendem a ter um perímetro maior do que tumores benignos.\n",
        "\n",
        "**Area mean:** A área é a medida da superfície de uma célula. Tumores malignos tendem a ter uma área maior do que tumores benignos.\n",
        "\n",
        "**Smoothness mean:** A suavidade é uma medida da uniformidade da superfície de uma célula. Tumores malignos tendem a ter uma suavidade menor do que tumores benignos.\n",
        "\n",
        "**Compactness mean:** A compactação é uma medida da densidade de uma célula. Tumores malignos tendem a ter uma compactação menor do que tumores benignos.\n",
        "\n",
        "**Concavity mean:** A concavidade é uma medida da quantidade de curvas em uma célula. Tumores malignos tendem a ter uma concavidade maior do que tumores benignos.\n",
        "\n",
        "**Concave points mean:** O número de pontos côncavos é uma medida da quantidade de pontos em uma célula que são mais profundos do que os pontos ao seu redor. Tumores malignos tendem a ter um número de pontos côncavos maior do que tumores benignos.\n",
        "\n",
        "**Symmetry mean:** A simetria é uma medida de quão simétrica é uma célula. Tumores malignos tendem a ter uma simetria menor do que tumores benignos.\n",
        "\n",
        "**Fractal dimension mean:** O diâmetro fractal é uma medida de quão complexa é uma célula. Tumores malignos tendem a ter um diâmetro fractal maior do que tumores benignos.\n",
        "\n",
        "### Implicações clínicas:\n",
        "\n",
        "As características de tumores benignos e malignos podem ser usadas para ajudar os médicos a diagnosticar câncer. Por exemplo, se um tumor tiver um raio, perímetro, área, concavidade ou número de pontos côncavos maior do que o esperado, o médico pode suspeitar de câncer.\n",
        "\n",
        "Além disso, as características de tumores benignos e malignos podem ser usadas para monitorar o tratamento do câncer. Por exemplo, se um tumor maligno começar a se tornar mais benigno, isso pode ser um sinal de que o tratamento está funcionando.\n",
        "\n",
        "### Conclusão:\n",
        "\n",
        "As características de tumores benignos e malignos podem fornecer informações importantes sobre o tipo de tumor. Essa informação pode ser usada para diagnosticar, tratar e monitorar o câncer."
      ],
      "metadata": {
        "id": "pu-yKZ_Qg0UF"
      }
    },
    {
      "cell_type": "markdown",
      "source": [
        "## Pré - Processamento"
      ],
      "metadata": {
        "id": "YHkB9TXm83Gz"
      }
    },
    {
      "cell_type": "code",
      "source": [
        "# Importa a classe MinMaxScaler do módulo de pré-processamento da biblioteca sklearn.\n",
        "\n",
        "from sklearn.preprocessing import MinMaxScaler"
      ],
      "metadata": {
        "id": "PDDfeMlzzqLo"
      },
      "execution_count": null,
      "outputs": []
    },
    {
      "cell_type": "code",
      "source": [
        "# Cria uma instância do MinMaxScaler, que será usada para redimensionar as características para o intervalo [0, 1].\n",
        "\n",
        "scaler = MinMaxScaler()\n",
        "\n",
        "# Aplica o MinMaxScaler às características X do DataFrame 'breast_cancer', removendo a coluna 'diagnosis'.\n",
        "# Isso redimensiona as características para o intervalo [0, 1] e armazena o resultado em 'X_scaled'.\n",
        "\n",
        "X_scaled = scaler.fit_transform(breast_cancer.drop(columns=['diagnosis']))\n",
        "\n",
        "# A variável y é atribuída à coluna 'diagnosis' no DataFrame 'breast_cancer'.\n",
        "\n",
        "y = breast_cancer['diagnosis']"
      ],
      "metadata": {
        "id": "pc1ObSWs0OF8"
      },
      "execution_count": null,
      "outputs": []
    },
    {
      "cell_type": "code",
      "source": [
        "# X_scaled é uma variável que contém as características após a aplicação do MinMaxScaler.\n",
        "\n",
        "X_scaled"
      ],
      "metadata": {
        "id": "r3ErZ56nFaKM"
      },
      "execution_count": null,
      "outputs": []
    },
    {
      "cell_type": "code",
      "source": [
        "# Importa a função train_test_split do módulo model_selection da biblioteca sklearn.\n",
        "\n",
        "from sklearn.model_selection import train_test_split"
      ],
      "metadata": {
        "id": "OMxenTdtc3Sm"
      },
      "execution_count": null,
      "outputs": []
    },
    {
      "cell_type": "code",
      "source": [
        "# Divide o conjunto de dados em treinamento (X_train, y_train) e validação (X_validad, y_validad).\n",
        "# Usando 25% dos dados para validação e definindo uma semente (random_state=42) para reprodutibilidade.\n",
        "\n",
        "X_train, X_validad, y_train, y_validad = train_test_split(X_scaled, y, test_size=0.25, random_state=42)"
      ],
      "metadata": {
        "id": "zDjDyWNleP2V"
      },
      "execution_count": null,
      "outputs": []
    },
    {
      "cell_type": "markdown",
      "source": [
        "## Regressão Logística"
      ],
      "metadata": {
        "id": "cNpoirKrqNBb"
      }
    },
    {
      "cell_type": "code",
      "source": [
        "# Importa a classe LogisticRegression do módulo de modelos lineares (linear_model) da biblioteca sklearn.\n",
        "\n",
        "from sklearn.linear_model import LogisticRegression"
      ],
      "metadata": {
        "id": "leCHcfcvhloL"
      },
      "execution_count": null,
      "outputs": []
    },
    {
      "cell_type": "code",
      "source": [
        "# Cria uma instância do modelo de regressão logística da classe LogisticRegression.\n",
        "\n",
        "logistic = LogisticRegression()\n",
        "\n",
        "# Treina o modelo de regressão logística usando o conjunto de características de treinamento (X_train) e as variáveis alvo de treinamento (y_train).\n",
        "\n",
        "logistic.fit(X_train, y_train)\n",
        "\n",
        "# Realiza previsões usando o modelo treinado nos dados de validação (X_validad) e armazena as previsões em 'y_pred'.\n",
        "\n",
        "y_pred = logistic.predict(X_validad)"
      ],
      "metadata": {
        "id": "23g_Wssfh51q"
      },
      "execution_count": null,
      "outputs": []
    },
    {
      "cell_type": "code",
      "source": [
        "# Importa diversas métricas de avaliação de desempenho de modelos de machine learning do módulo 'metrics' da biblioteca sklearn.\n",
        "\n",
        "from sklearn.metrics import accuracy_score, recall_score, classification_report, f1_score, confusion_matrix"
      ],
      "metadata": {
        "id": "2IQezbGtjDtm"
      },
      "execution_count": null,
      "outputs": []
    },
    {
      "cell_type": "code",
      "source": [
        "# Calcula a acurácia das previsões do modelo 'y_validad' são os rótulos reais e 'y_pred' são as previsões feitas pelo modelo no conjunto de validação.\n",
        "\n",
        "accuracy_score(y_validad, y_pred)"
      ],
      "metadata": {
        "id": "ljTRuLy5jX8O"
      },
      "execution_count": null,
      "outputs": []
    },
    {
      "cell_type": "code",
      "source": [
        "# Calcula o recall (taxa de verdadeiros positivos) das previsões do modelo.\n",
        "\n",
        "recall_score(y_validad, y_pred)"
      ],
      "metadata": {
        "id": "HfS-YLuDQN1C"
      },
      "execution_count": null,
      "outputs": []
    },
    {
      "cell_type": "code",
      "source": [
        "# Calcula o valor F1 com média macro (macro-average F1 score) das previsões do modelo.\n",
        "\n",
        "f1_score(y_validad, y_pred, average='macro')"
      ],
      "metadata": {
        "id": "EpqePQX0QNlO"
      },
      "execution_count": null,
      "outputs": []
    },
    {
      "cell_type": "code",
      "source": [
        "# Gera e imprime um relatório de classificação detalhado, incluindo várias métricas de desempenho do modelo.\n",
        "\n",
        "print(classification_report(y_validad, y_pred))"
      ],
      "metadata": {
        "id": "caqdn_WeHRM9"
      },
      "execution_count": null,
      "outputs": []
    },
    {
      "cell_type": "code",
      "source": [
        "# Calcula a matriz de confusão (confusion matrix) que mostra o número de verdadeiros positivos, verdadeiros negativos, falsos positivos e falsos negativos.\n",
        "\n",
        "cm0 = confusion_matrix(y_validad, y_pred)"
      ],
      "metadata": {
        "id": "BLPkWxxmHdF6"
      },
      "execution_count": null,
      "outputs": []
    },
    {
      "cell_type": "code",
      "source": [
        "# Gera um mapa de calor (heatmap) da matriz de confusão 'cm0' com anotações (valores) exibidos nas células.\n",
        "\n",
        "sns.heatmap(cm0, annot=True, fmt='d')"
      ],
      "metadata": {
        "id": "GJHmdAFpH1im"
      },
      "execution_count": null,
      "outputs": []
    },
    {
      "cell_type": "markdown",
      "source": [
        "## Decision Tree Classifier"
      ],
      "metadata": {
        "id": "R2whjWfyqa3E"
      }
    },
    {
      "cell_type": "code",
      "source": [
        "# Importa a classe DecisionTreeClassifier do módulo de árvores de decisão (tree) da biblioteca sklearn.\n",
        "\n",
        "from sklearn.tree import DecisionTreeClassifier"
      ],
      "metadata": {
        "id": "MIvh7coPilIC"
      },
      "execution_count": null,
      "outputs": []
    },
    {
      "cell_type": "code",
      "source": [
        "# Cria uma instância do modelo de árvore de decisão da classe DecisionTreeClassifier.\n",
        "\n",
        "tree = DecisionTreeClassifier()\n",
        "\n",
        "# Treina o modelo de árvore de decisão usando o conjunto de características de treinamento X_train e as variáveis alvo de treinamento y_train.\n",
        "\n",
        "tree.fit(X_train, y_train)\n",
        "\n",
        "# Realiza previsões usando o modelo de árvore de decisão treinado nos dados de validação X_validad e armazena as previsões em 'y_predDTC'.\n",
        "\n",
        "y_predDTC = tree.predict(X_validad)"
      ],
      "metadata": {
        "id": "JmT2iYt0jDez"
      },
      "execution_count": null,
      "outputs": []
    },
    {
      "cell_type": "code",
      "source": [
        "# Calcula a acurácia das previsões do modelo 'y_validad' são os rótulos reais e 'y_pred' são as previsões feitas pelo modelo no conjunto de validação.\n",
        "\n",
        "accuracy_score(y_validad, y_predDTC)"
      ],
      "metadata": {
        "id": "Q024isgskSfP"
      },
      "execution_count": null,
      "outputs": []
    },
    {
      "cell_type": "code",
      "source": [
        "# Calcula o recall (taxa de verdadeiros positivos) das previsões do modelo.\n",
        "\n",
        "recall_score(y_validad, y_predDTC)"
      ],
      "metadata": {
        "id": "1xv54aBO1aLz"
      },
      "execution_count": null,
      "outputs": []
    },
    {
      "cell_type": "code",
      "source": [
        "# Calcula o valor F1 com média macro (macro-average F1 score) das previsões do modelo.\n",
        "\n",
        "f1_score(y_validad, y_predDTC, average='macro')"
      ],
      "metadata": {
        "id": "Jjm-VBM3uMoI"
      },
      "execution_count": null,
      "outputs": []
    },
    {
      "cell_type": "code",
      "source": [
        "# Gera e imprime um relatório de classificação detalhado, incluindo várias métricas de desempenho do modelo.\n",
        "\n",
        "print(classification_report(y_validad, y_predDTC))"
      ],
      "metadata": {
        "id": "-zmm0Nu11aIf"
      },
      "execution_count": null,
      "outputs": []
    },
    {
      "cell_type": "code",
      "source": [
        "# Calcula a matriz de confusão (confusion matrix) que mostra o número de verdadeiros positivos, verdadeiros negativos, falsos positivos e falsos negativos.\n",
        "\n",
        "cm1 = confusion_matrix(y_validad, y_predDTC)"
      ],
      "metadata": {
        "id": "x2PAktL01ajF"
      },
      "execution_count": null,
      "outputs": []
    },
    {
      "cell_type": "code",
      "source": [
        "# Gera um mapa de calor (heatmap) da matriz de confusão 'cm1' com anotações (valores) exibidos nas células.\n",
        "\n",
        "sns.heatmap(cm1, annot=True, fmt='d')"
      ],
      "metadata": {
        "id": "hhmaabzK8rLb"
      },
      "execution_count": null,
      "outputs": []
    },
    {
      "cell_type": "markdown",
      "source": [
        "## Random Forest Classifier"
      ],
      "metadata": {
        "id": "28QcxvU8qvU2"
      }
    },
    {
      "cell_type": "code",
      "source": [
        "# Importa a classe RandomForestClassifier do módulo de ensemble da biblioteca sklearn.\n",
        "\n",
        "from sklearn.ensemble import RandomForestClassifier"
      ],
      "metadata": {
        "id": "7KLn_bQIjkhD"
      },
      "execution_count": null,
      "outputs": []
    },
    {
      "cell_type": "code",
      "source": [
        "# Cria uma instância do modelo de Random Forest da classe RandomForestClassifier.\n",
        "\n",
        "Random = RandomForestClassifier()\n",
        "\n",
        "# Treina o modelo de Random Forest usando o conjunto de características de treinamento X_train e as variáveis alvo de treinamento y_train.\n",
        "\n",
        "Random.fit(X_train, y_train)\n",
        "\n",
        "# Realiza previsões usando o modelo de Random Forest treinado nos dados de validação (X_validad) e armazena as previsões em 'y_predRF'.\n",
        "\n",
        "y_predRF = Random.predict(X_validad)"
      ],
      "metadata": {
        "id": "GkE1SLFxjrqT"
      },
      "execution_count": null,
      "outputs": []
    },
    {
      "cell_type": "code",
      "source": [
        "# Calcula a acurácia das previsões do modelo 'y_validad' são os rótulos reais e 'y_pred' são as previsões feitas pelo modelo no conjunto de validação.\n",
        "\n",
        "accuracy_score(y_validad, y_predRF)"
      ],
      "metadata": {
        "id": "23aOVXO-j9Wb"
      },
      "execution_count": null,
      "outputs": []
    },
    {
      "cell_type": "code",
      "source": [
        "# Calcula o recall (taxa de verdadeiros positivos) das previsões do modelo.\n",
        "\n",
        "recall_score(y_validad, y_predRF)"
      ],
      "metadata": {
        "id": "bS11lgbK_B8L"
      },
      "execution_count": null,
      "outputs": []
    },
    {
      "cell_type": "code",
      "source": [
        "# Calcula o valor F1 com média macro (macro-average F1 score) das previsões do modelo.\n",
        "\n",
        "f1_score(y_validad, y_pred, average='macro')"
      ],
      "metadata": {
        "id": "lTNGTmqA_B5I"
      },
      "execution_count": null,
      "outputs": []
    },
    {
      "cell_type": "code",
      "source": [
        "# Gera e imprime um relatório de classificação detalhado, incluindo várias métricas de desempenho do modelo.\n",
        "\n",
        "print(classification_report(y_validad, y_predRF))"
      ],
      "metadata": {
        "id": "bXdCLPE-h1F2"
      },
      "execution_count": null,
      "outputs": []
    },
    {
      "cell_type": "code",
      "source": [
        "# Calcula a matriz de confusão (confusion matrix) que mostra o número de verdadeiros positivos, verdadeiros negativos, falsos positivos e falsos negativos.\n",
        "\n",
        "cm2 = confusion_matrix(y_validad, y_predRF)"
      ],
      "metadata": {
        "id": "Yac9fQc3hkAL"
      },
      "execution_count": null,
      "outputs": []
    },
    {
      "cell_type": "code",
      "source": [
        "# Gera um mapa de calor (heatmap) da matriz de confusão 'cm2' com anotações (valores) exibidos nas células.\n",
        "\n",
        "sns.heatmap(cm2, annot=True, fmt='d')"
      ],
      "metadata": {
        "id": "ml1EhbwW2_Zi"
      },
      "execution_count": null,
      "outputs": []
    },
    {
      "cell_type": "markdown",
      "source": [
        "# Utilização do Modelo\n",
        "\n",
        "### Após treinar os modelos e escolher o que tem as melhores métricas, iremos salva-lo para utilização em novos casos para diagnosticar os tumores."
      ],
      "metadata": {
        "id": "5PVKIP24rIlb"
      }
    },
    {
      "cell_type": "markdown",
      "source": [
        "## Salvando o modelo"
      ],
      "metadata": {
        "id": "z_oGmH1qlst_"
      }
    },
    {
      "cell_type": "code",
      "source": [
        "# Importa o módulo 'pickle' uma biblioteca que fornece funcionalidades para serialização e desserialização de objetos.\n",
        "# Ele é frequentemente usado para salvar objetos em arquivos ou para transferir objetos entre processos Python.\n",
        "\n",
        "import pickle"
      ],
      "metadata": {
        "id": "_2EQMoeMkFz-"
      },
      "execution_count": null,
      "outputs": []
    },
    {
      "cell_type": "code",
      "source": [
        "# Abre um arquivo chamado 'variaveis_modelo.pkl' no modo de gravação binária 'wb'.\n",
        "# Em seguida, usa o 'pickle' para serializar (salvar) a lista [scaler, logistic] no arquivo 'f'.\n",
        "\n",
        "with open('variaveis_modelo.pkl', 'wb') as f:\n",
        "  pickle.dump([scaler, logistic], f)"
      ],
      "metadata": {
        "id": "sORi3Jwtl176"
      },
      "execution_count": null,
      "outputs": []
    },
    {
      "cell_type": "markdown",
      "source": [
        "## Importando o modelo"
      ],
      "metadata": {
        "id": "yj9AlNjCrJuX"
      }
    },
    {
      "cell_type": "code",
      "source": [
        "# Abre o arquivo 'variaveis_modelo.pkl' no modo de leitura binária ('rb').\n",
        "# usa o 'pickle' para desserializar (carregar) os objetos armazenados no arquivo 'f' nas variáveis 'min_max' e 'model'.\n",
        "\n",
        "with open('variaveis_modelo.pkl', 'rb') as f:\n",
        "  min_max, model = pickle.load(f)"
      ],
      "metadata": {
        "id": "jTS2FlPzFVtI"
      },
      "execution_count": null,
      "outputs": []
    },
    {
      "cell_type": "code",
      "source": [
        "# Exibe os valores das variáveis 'min_max' e 'model'.\n",
        "\n",
        "min_max, model"
      ],
      "metadata": {
        "id": "0ZWjKmpNl147"
      },
      "execution_count": null,
      "outputs": []
    },
    {
      "cell_type": "code",
      "source": [
        "# Cria um novo DataFrame 'X_breast_cancer' selecionando as linhas de índice 222 até 223 do DataFrame 'breast_cancer'.\n",
        "\n",
        "X_breast_cancer = breast_cancer.iloc[222:224]\n",
        "\n",
        "# Exibe a variável 'X_breast_cancer'.\n",
        "X_breast_cancer"
      ],
      "metadata": {
        "id": "uwMnkmMyl12Z"
      },
      "execution_count": null,
      "outputs": []
    },
    {
      "cell_type": "code",
      "source": [
        "# Aplica a transformação de escalonamento (MinMaxScaler) do objeto 'scaler' nas características do DataFrame 'X_breast_cancer'.\n",
        "# as colunas 'diagnosis' são removidas do DataFrame resultante.\n",
        "\n",
        "X_novo = scaler.transform(X_breast_cancer.drop(columns=['diagnosis']))\n",
        "\n",
        "# Exibe a variável X_novo.\n",
        "X_novo"
      ],
      "metadata": {
        "id": "qzsTgBmbl1zu"
      },
      "execution_count": null,
      "outputs": []
    },
    {
      "cell_type": "code",
      "source": [
        "# Usa o modelo 'model' para fazer previsões com base nas características contidas no DataFrame 'X_novo'.\n",
        "\n",
        "model.predict(X_novo)"
      ],
      "metadata": {
        "id": "rl8_U2NpJiUD"
      },
      "execution_count": null,
      "outputs": []
    },
    {
      "cell_type": "code",
      "source": [
        "# Calcula as probabilidades das classes de saída (ou valores previstos) usando o modelo 'model' nas características contidas no DataFrame 'X_novo'.\n",
        "# Exibe a probabilidade do indivíduo ser classificado na classe 0 (benigno) e na classe 1 (maligno).\n",
        "\n",
        "model.predict_proba(X_novo)"
      ],
      "metadata": {
        "id": "s57b1I8GJiR-"
      },
      "execution_count": null,
      "outputs": []
    }
  ]
}